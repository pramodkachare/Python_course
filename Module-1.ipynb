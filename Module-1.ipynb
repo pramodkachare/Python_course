{
 "cells": [
  {
   "cell_type": "code",
   "execution_count": 1,
   "metadata": {},
   "outputs": [
    {
     "ename": "NameError",
     "evalue": "name 'python' is not defined",
     "output_type": "error",
     "traceback": [
      "\u001b[1;31m---------------------------------------------------------------------------\u001b[0m",
      "\u001b[1;31mNameError\u001b[0m                                 Traceback (most recent call last)",
      "\u001b[1;32m<ipython-input-1-a4637bbefc43>\u001b[0m in \u001b[0;36m<module>\u001b[1;34m\u001b[0m\n\u001b[1;32m----> 1\u001b[1;33m \u001b[0mpython\u001b[0m \u001b[1;33m-\u001b[0m\u001b[1;33m-\u001b[0m\u001b[0mversion\u001b[0m\u001b[1;33m\u001b[0m\u001b[1;33m\u001b[0m\u001b[0m\n\u001b[0m",
      "\u001b[1;31mNameError\u001b[0m: name 'python' is not defined"
     ]
    }
   ],
   "source": [
    "python --version"
   ]
  },
  {
   "cell_type": "markdown",
   "metadata": {},
   "source": [
    "Use '!' to run a command using CLI"
   ]
  },
  {
   "cell_type": "code",
   "execution_count": 2,
   "metadata": {},
   "outputs": [
    {
     "name": "stdout",
     "output_type": "stream",
     "text": [
      "Python 3.7.4\n"
     ]
    }
   ],
   "source": [
    "!python --version"
   ]
  },
  {
   "cell_type": "markdown",
   "metadata": {},
   "source": [
    "### Learn Hello world\n",
    "\n",
    "syntax: print(string1/number1/object1, string1/number1/object1, ..., sep = seperator)\n",
    "\n",
    "- sep: is used to declare the seperator between two objects to be printed (deafult: sep=' ')"
   ]
  },
  {
   "cell_type": "code",
   "execution_count": 3,
   "metadata": {},
   "outputs": [
    {
     "name": "stdout",
     "output_type": "stream",
     "text": [
      "Hello world!\n"
     ]
    }
   ],
   "source": [
    "print(\"Hello world!\")"
   ]
  },
  {
   "cell_type": "code",
   "execution_count": 4,
   "metadata": {},
   "outputs": [
    {
     "name": "stdout",
     "output_type": "stream",
     "text": [
      "Hello world! Python course\n"
     ]
    }
   ],
   "source": [
    "print(\"Hello world!\", \"Python course\")"
   ]
  },
  {
   "cell_type": "code",
   "execution_count": 6,
   "metadata": {},
   "outputs": [
    {
     "name": "stdout",
     "output_type": "stream",
     "text": [
      "Hello world!--Python course\n"
     ]
    }
   ],
   "source": [
    "print(\"Hello world!\", 'Python course', sep='--')"
   ]
  },
  {
   "cell_type": "code",
   "execution_count": 7,
   "metadata": {},
   "outputs": [
    {
     "name": "stdout",
     "output_type": "stream",
     "text": [
      "Hello world-2\n"
     ]
    }
   ],
   "source": [
    "print(\"Hello world\", 2, sep='-')"
   ]
  },
  {
   "cell_type": "markdown",
   "metadata": {},
   "source": [
    "## Datatype"
   ]
  },
  {
   "cell_type": "markdown",
   "metadata": {},
   "source": [
    "### Strings"
   ]
  },
  {
   "cell_type": "code",
   "execution_count": 21,
   "metadata": {},
   "outputs": [],
   "source": [
    "a = 'pramod'"
   ]
  },
  {
   "cell_type": "code",
   "execution_count": 14,
   "metadata": {},
   "outputs": [
    {
     "name": "stdout",
     "output_type": "stream",
     "text": [
      "Pramod\n"
     ]
    }
   ],
   "source": [
    "print(a)"
   ]
  },
  {
   "cell_type": "code",
   "execution_count": 22,
   "metadata": {},
   "outputs": [
    {
     "data": {
      "text/plain": [
       "'pramod'"
      ]
     },
     "execution_count": 22,
     "metadata": {},
     "output_type": "execute_result"
    }
   ],
   "source": [
    "a"
   ]
  },
  {
   "cell_type": "markdown",
   "metadata": {},
   "source": [
    "To check the type of any variable use command 'type'\n",
    "\n",
    "syntax: type(variable_name)"
   ]
  },
  {
   "cell_type": "code",
   "execution_count": 15,
   "metadata": {},
   "outputs": [
    {
     "name": "stdout",
     "output_type": "stream",
     "text": [
      "<class 'str'>\n"
     ]
    }
   ],
   "source": [
    "print(type(a))"
   ]
  },
  {
   "cell_type": "markdown",
   "metadata": {},
   "source": [
    "Python 3 uses 'string' class for 1 or more lettered words"
   ]
  },
  {
   "cell_type": "code",
   "execution_count": null,
   "metadata": {},
   "outputs": [],
   "source": []
  },
  {
   "cell_type": "code",
   "execution_count": 18,
   "metadata": {},
   "outputs": [
    {
     "name": "stdout",
     "output_type": "stream",
     "text": [
      "P <class 'str'>\n"
     ]
    }
   ],
   "source": [
    "b = \"P\"\n",
    "print(b, type(b))"
   ]
  },
  {
   "cell_type": "code",
   "execution_count": 23,
   "metadata": {},
   "outputs": [
    {
     "name": "stdout",
     "output_type": "stream",
     "text": [
      "pramod Kachare\n"
     ]
    }
   ],
   "source": [
    "c = 'Kachare'\n",
    "print(a, c)"
   ]
  },
  {
   "cell_type": "code",
   "execution_count": 24,
   "metadata": {},
   "outputs": [
    {
     "name": "stdout",
     "output_type": "stream",
     "text": [
      "PramodKachare\n"
     ]
    }
   ],
   "source": [
    "firstname = 'Pramod'\n",
    "lastname = 'Kachare'\n",
    "\n",
    "fullname = firstname + lastname\n",
    "print(fullname)"
   ]
  },
  {
   "cell_type": "markdown",
   "metadata": {},
   "source": [
    "'+' : concatenates two strings (careful: no additional space is added)"
   ]
  },
  {
   "cell_type": "code",
   "execution_count": 25,
   "metadata": {},
   "outputs": [
    {
     "name": "stdout",
     "output_type": "stream",
     "text": [
      "Pramod Kachare\n"
     ]
    }
   ],
   "source": [
    "fullname = firstname + \" \" + lastname\n",
    "print(fullname)"
   ]
  },
  {
   "cell_type": "code",
   "execution_count": 26,
   "metadata": {},
   "outputs": [
    {
     "data": {
      "text/plain": [
       "6"
      ]
     },
     "execution_count": 26,
     "metadata": {},
     "output_type": "execute_result"
    }
   ],
   "source": [
    "len(firstname)"
   ]
  },
  {
   "cell_type": "code",
   "execution_count": 28,
   "metadata": {},
   "outputs": [
    {
     "name": "stdout",
     "output_type": "stream",
     "text": [
      "Length of \" Pramod \" is  6\n"
     ]
    }
   ],
   "source": [
    "print('Length of \"', firstname, '\" is ', len(firstname))"
   ]
  },
  {
   "cell_type": "code",
   "execution_count": 29,
   "metadata": {},
   "outputs": [
    {
     "name": "stdout",
     "output_type": "stream",
     "text": [
      "Length of ' Pramod ' is  6\n"
     ]
    }
   ],
   "source": [
    "print(\"Length of '\", firstname, \"' is \", len(firstname))"
   ]
  },
  {
   "cell_type": "code",
   "execution_count": 30,
   "metadata": {},
   "outputs": [
    {
     "name": "stdout",
     "output_type": "stream",
     "text": [
      "Length of ' Kachare ' is  7\n"
     ]
    }
   ],
   "source": [
    "print(\"Length of '\", lastname, \"' is \", len(lastname))"
   ]
  },
  {
   "cell_type": "code",
   "execution_count": 32,
   "metadata": {},
   "outputs": [
    {
     "name": "stdout",
     "output_type": "stream",
     "text": [
      "Length of ' Pramod Kachare ' is  14\n"
     ]
    }
   ],
   "source": [
    "print(\"Length of '\", fullname, \"' is \", len(fullname))"
   ]
  },
  {
   "cell_type": "code",
   "execution_count": 35,
   "metadata": {},
   "outputs": [
    {
     "name": "stdout",
     "output_type": "stream",
     "text": [
      "Pramod Kachare\n",
      "PramodaaaaaaKachare\n",
      "Pramod Kachare\n"
     ]
    }
   ],
   "source": [
    "print(firstname, lastname)\n",
    "print(firstname, lastname, sep='aaaaaa')\n",
    "print(fullname, sep='aaaaaa')"
   ]
  },
  {
   "cell_type": "markdown",
   "metadata": {},
   "source": [
    "DAY-2"
   ]
  },
  {
   "cell_type": "markdown",
   "metadata": {},
   "source": [
    "Number\n",
    "- Integer\n",
    "    - Decimal (0-9)\n",
    "        Any number that is based on 10^x positions\n",
    "        101 = 1 * 10^2 + 0 * 10^1 + 1 * 10^0\n",
    "        095 = 0 * 10^2 + 9 * 10^1 + 5 * 10^0 \n",
    "        871 = 8 * 10^2 + 7 * 10^1 + 1 * 10^0 \n",
    "        \n",
    "    - Binary (0, 1)\n",
    "        Any number that is based on 2^x positions\n",
    "        7 = 1 * 2^2 + 1 * 2^1 + 1 * 2^0 = 1 * 4 + 1 * 2 + 1 * 1  -> 111\n",
    "        4 = 1 * 2^2 + 0 * 2^1 + 0 * 2^0 -> 100\n",
    "        5 = 1 * 2^2 + 0 * 2^1 + 1 * 2^0 -> 101\n",
    "        \n",
    "    - Octal (0-7)\n",
    "        Any number that is based on 8^x positions\n",
    "        7 = 0 * 8^2 + 0 * 8^1 + 7 * 8^0 -> 001\n",
    "       14 = 0 * 8^2 + 1 * 8^1 + 6 * 8^0 -> 016\n",
    "       25 = 0 * 8^2 + 3 * 8^1 + 1 * 8^0 -> 031\n",
    "       85 = 1 * 8^2 + 2 * 8^1 + 5 * 8^0 -> 125\n",
    "            \n",
    "    - Hexadecimal (0-9, A, B, C, D, E, F)\n",
    "        Any number that is based on 16^x positions\n",
    "        7 = 0 * 16^2 + 0 * 16^1 + 7 * 16^0 -> 007\n",
    "       14 = 0 * 16^2 + 0 * 16^1 + E * 16^0 -> 00E\n",
    "       85 = 0 * 16^2 + 5 * 16^1 + 5 * 16^0 -> 055\n",
    "        \n",
    "        \n",
    "- Float (double)\n",
    "- Complex number"
   ]
  },
  {
   "cell_type": "code",
   "execution_count": 3,
   "metadata": {},
   "outputs": [
    {
     "name": "stdout",
     "output_type": "stream",
     "text": [
      "Decimal number is 101 <class 'int'>\n"
     ]
    }
   ],
   "source": [
    "a = 101\n",
    "print('Decimal number is', a, type(a))"
   ]
  },
  {
   "cell_type": "code",
   "execution_count": 7,
   "metadata": {},
   "outputs": [
    {
     "name": "stdout",
     "output_type": "stream",
     "text": [
      "Binary form of 101 is 0b1100101\n"
     ]
    }
   ],
   "source": [
    "b = bin(a)\n",
    "print('Binary form of', a, 'is', b)"
   ]
  },
  {
   "cell_type": "code",
   "execution_count": 8,
   "metadata": {},
   "outputs": [
    {
     "name": "stdout",
     "output_type": "stream",
     "text": [
      "Octal form of 101 is 0o145\n"
     ]
    }
   ],
   "source": [
    "c = oct(a)\n",
    "print('Octal form of', a, 'is', c)"
   ]
  },
  {
   "cell_type": "code",
   "execution_count": 9,
   "metadata": {},
   "outputs": [
    {
     "name": "stdout",
     "output_type": "stream",
     "text": [
      "Octal form of 101 is 0x65\n"
     ]
    }
   ],
   "source": [
    "d = hex(a)\n",
    "print('Octal form of', a, 'is', d)"
   ]
  },
  {
   "cell_type": "code",
   "execution_count": 18,
   "metadata": {},
   "outputs": [
    {
     "name": "stdout",
     "output_type": "stream",
     "text": [
      "Binary form of 85 is 0b1010101\n",
      "Octal form of 85 is 0o125\n",
      "hexadecimal form of 85 is 0x55\n",
      "--------------------\n",
      "0b1010101 is binary form of 85\n",
      "0o125 is octal form of 85\n",
      "0x55 is hexadecimal form of 85\n"
     ]
    }
   ],
   "source": [
    "a = 85\n",
    "b = bin(a)\n",
    "print('Binary form of', a, 'is', b)\n",
    "c = oct(a)\n",
    "print('Octal form of', a, 'is', c)\n",
    "d = hex(a)\n",
    "print('hexadecimal form of', a, 'is', d)\n",
    "print('-'*20)\n",
    "print(b, 'is binary form of', int(b, 2))\n",
    "print(c, 'is octal form of', int(c, 8))\n",
    "print(d, 'is hexadecimal form of', int(d, 16))"
   ]
  },
  {
   "cell_type": "code",
   "execution_count": 24,
   "metadata": {},
   "outputs": [
    {
     "name": "stdout",
     "output_type": "stream",
     "text": [
      "Number is  -2.0 <class 'float'>\n"
     ]
    }
   ],
   "source": [
    "e = -2.0\n",
    "print('Number is ', e, type(e))"
   ]
  },
  {
   "cell_type": "markdown",
   "metadata": {},
   "source": [
    "Arithmatic operations on numbers\n",
    "- Addition\n",
    "- Subtraction\n",
    "- Multiplication\n",
    "- Division (output is automatically \"type casted\" to float)"
   ]
  },
  {
   "cell_type": "code",
   "execution_count": 12,
   "metadata": {},
   "outputs": [
    {
     "name": "stdout",
     "output_type": "stream",
     "text": [
      "Addition of  5 and 3 is 8 <class 'int'>\n",
      "Subtraction of  5 and 3 is 2 <class 'int'>\n",
      "Multiplication of  5 and 3 is 15 <class 'int'>\n",
      "Division of  5 and 3 is 1 <class 'int'>\n"
     ]
    }
   ],
   "source": [
    "a = 5\n",
    "b = 3\n",
    "\n",
    "c = a + b \n",
    "d = a - b \n",
    "e = a * b \n",
    "f = a / b\n",
    "\n",
    "print('Addition of ', a, 'and', b, 'is', c, type(c))\n",
    "print('Subtraction of ', a, 'and', b, 'is', d, type(d))\n",
    "print('Multiplication of ', a, 'and', b, 'is', e, type(e))\n",
    "print('Division of ', a, 'and', b, 'is', f, type(f))"
   ]
  },
  {
   "cell_type": "markdown",
   "metadata": {},
   "source": [
    "Hierarchy\n",
    " 1. String\n",
    " 2. Float\n",
    " 3. Integer"
   ]
  },
  {
   "cell_type": "code",
   "execution_count": 16,
   "metadata": {},
   "outputs": [
    {
     "name": "stdout",
     "output_type": "stream",
     "text": [
      "x: 100\n"
     ]
    }
   ],
   "source": [
    "# Example of type casting: float -> int\n",
    "# This is also called as Downcasting\n",
    "x = int(100.5)\n",
    "\n",
    "print('x:', x)"
   ]
  },
  {
   "cell_type": "code",
   "execution_count": 17,
   "metadata": {},
   "outputs": [
    {
     "name": "stdout",
     "output_type": "stream",
     "text": [
      "x: 100.0\n"
     ]
    }
   ],
   "source": [
    "# Example of type casting: int -> float\n",
    "# This is also called as Upcasting\n",
    "x = float(100)\n",
    "\n",
    "print('x:', x)"
   ]
  },
  {
   "cell_type": "code",
   "execution_count": 24,
   "metadata": {},
   "outputs": [
    {
     "name": "stdout",
     "output_type": "stream",
     "text": [
      "Quotient of  7 and 4 is 1 <class 'int'>\n",
      "Remainder of  7 and 4 is 3 <class 'int'>\n"
     ]
    }
   ],
   "source": [
    "a = 7\n",
    "b = 4\n",
    "\n",
    "g = a // b \n",
    "h = a % b \n",
    "\n",
    "print('Quotient of ', a, 'and', b, 'is', g, type(g))\n",
    "print('Remainder of ', a, 'and', b, 'is', h, type(h))"
   ]
  },
  {
   "cell_type": "markdown",
   "metadata": {},
   "source": [
    "### List\n",
    "\n",
    "It is a colletion of different python datatypes."
   ]
  },
  {
   "cell_type": "code",
   "execution_count": 29,
   "metadata": {},
   "outputs": [
    {
     "name": "stdout",
     "output_type": "stream",
     "text": [
      "[1, 2.2, 'Pramod', 'Python'] <class 'list'>\n"
     ]
    }
   ],
   "source": [
    "a = [1, 2.2, 'Pramod', 'Python']\n",
    "print(a, type(a))"
   ]
  },
  {
   "cell_type": "code",
   "execution_count": 30,
   "metadata": {},
   "outputs": [
    {
     "name": "stdout",
     "output_type": "stream",
     "text": [
      "Number of elements in list are:  4\n"
     ]
    }
   ],
   "source": [
    "print('Number of elements in list are: ', len(a))"
   ]
  },
  {
   "cell_type": "markdown",
   "metadata": {},
   "source": [
    "Indexing\n",
    "\n",
    "#### Indexing in list starts with 0 (allows negative indexing)\n",
    "- First element: 0th position\n",
    "- Second element: 1st position\n",
    "- ...\n",
    "- Second last element: -2th position\n",
    "- Last element: -1th position"
   ]
  },
  {
   "cell_type": "code",
   "execution_count": 35,
   "metadata": {},
   "outputs": [
    {
     "name": "stdout",
     "output_type": "stream",
     "text": [
      "First element in a is  1\n",
      "Second element in a is  2.2\n",
      "Last element in a is  Python\n",
      "Second last element in a is  Pramod\n"
     ]
    }
   ],
   "source": [
    "print('First element in a is ', a[0])\n",
    "print('Second element in a is ', a[1])\n",
    "print('Last element in a is ', a[-1])\n",
    "print('Second last element in a is ', a[-2])"
   ]
  },
  {
   "cell_type": "code",
   "execution_count": 37,
   "metadata": {},
   "outputs": [
    {
     "name": "stdout",
     "output_type": "stream",
     "text": [
      "6\n",
      "Fourth position element is  -5.03\n"
     ]
    }
   ],
   "source": [
    "b = ['Pramod', 500, 'Python', 'Aadi', -5.03, 'Ritwik']\n",
    "\n",
    "print(len(b))\n",
    "print('Fourth position element is ', b[4])"
   ]
  },
  {
   "cell_type": "code",
   "execution_count": 39,
   "metadata": {},
   "outputs": [
    {
     "name": "stdout",
     "output_type": "stream",
     "text": [
      "[] <class 'list'>\n"
     ]
    }
   ],
   "source": [
    "a = []\n",
    "print(a, type(a))"
   ]
  },
  {
   "cell_type": "code",
   "execution_count": 43,
   "metadata": {},
   "outputs": [
    {
     "name": "stdout",
     "output_type": "stream",
     "text": [
      "[2, 3, 'Pramod'] <class 'list'>\n"
     ]
    }
   ],
   "source": [
    "a = list([2, 3, 'Pramod'])\n",
    "print(a, type(a))"
   ]
  },
  {
   "cell_type": "markdown",
   "metadata": {},
   "source": [
    "### Slicing\n",
    "\n",
    "list[start:stop]\n",
    "- It will extract all the elements from the list starting with 'start' but ending with 'stop-1'\n",
    "- Creates a new (sub/smaller) list\n",
    "\n",
    "- list[start:]  then 'stop' defaults to 'len(list)'\n",
    "- list[:stop]  then 'start' defaults to '0'"
   ]
  },
  {
   "cell_type": "code",
   "execution_count": 50,
   "metadata": {},
   "outputs": [
    {
     "name": "stdout",
     "output_type": "stream",
     "text": [
      "Elements from 1st to 3rd position are: [500, 'Python', 'Aadi'] <class 'list'>\n"
     ]
    }
   ],
   "source": [
    "c = b[1:4]\n",
    "print('Elements from 1st to 3rd position are:',c, type(c))"
   ]
  },
  {
   "cell_type": "code",
   "execution_count": 53,
   "metadata": {},
   "outputs": [
    {
     "name": "stdout",
     "output_type": "stream",
     "text": [
      "Elements from 1st to last position are: [500, 'Python', 'Aadi', -5.03, 'Ritwik'] <class 'list'>\n",
      "Elements from 0th to 3rd position are: ['Pramod', 500, 'Python', 'Aadi'] <class 'list'>\n"
     ]
    }
   ],
   "source": [
    "d = b[1:]\n",
    "print('Elements from 1st to last position are:',d, type(d))\n",
    "\n",
    "e = b[:4]\n",
    "print('Elements from 0th to 3rd position are:',e, type(e))"
   ]
  },
  {
   "cell_type": "code",
   "execution_count": 55,
   "metadata": {},
   "outputs": [
    {
     "data": {
      "text/plain": [
       "['Pramod', 500, 'Python', 'Aadi', -5.03]"
      ]
     },
     "execution_count": 55,
     "metadata": {},
     "output_type": "execute_result"
    }
   ],
   "source": [
    "b[:-1]"
   ]
  },
  {
   "cell_type": "code",
   "execution_count": 60,
   "metadata": {},
   "outputs": [
    {
     "data": {
      "text/plain": [
       "['Ritwik']"
      ]
     },
     "execution_count": 60,
     "metadata": {},
     "output_type": "execute_result"
    }
   ],
   "source": [
    "b[-1:]"
   ]
  },
  {
   "cell_type": "code",
   "execution_count": 59,
   "metadata": {},
   "outputs": [
    {
     "data": {
      "text/plain": [
       "['Ritwik']"
      ]
     },
     "execution_count": 59,
     "metadata": {},
     "output_type": "execute_result"
    }
   ],
   "source": [
    "b[-1:len(b)]"
   ]
  },
  {
   "cell_type": "code",
   "execution_count": 61,
   "metadata": {},
   "outputs": [
    {
     "data": {
      "text/plain": [
       "(['Aadi', -5.03, 'Ritwik'], ['Aadi', -5.03, 'Ritwik'])"
      ]
     },
     "execution_count": 61,
     "metadata": {},
     "output_type": "execute_result"
    }
   ],
   "source": [
    "b[3:], b[3:len(b)]"
   ]
  },
  {
   "cell_type": "markdown",
   "metadata": {},
   "source": [
    "### A list can contain another list"
   ]
  },
  {
   "cell_type": "code",
   "execution_count": 64,
   "metadata": {},
   "outputs": [
    {
     "name": "stdout",
     "output_type": "stream",
     "text": [
      "[2, 'Course', ['Pramod', 500, 'Python', 'Aadi', -5.03, 'Ritwik']] <class 'list'>\n",
      "First element in c is  2\n",
      "Second element in c is  Course\n",
      "Last element in c is  ['Pramod', 500, 'Python', 'Aadi', -5.03, 'Ritwik']\n"
     ]
    }
   ],
   "source": [
    "c = [2, 'Course', b]\n",
    "print(c, type(c))\n",
    "\n",
    "print('First element in c is ', c[0])\n",
    "print('Second element in c is ', c[1])\n",
    "print('Last element in c is ', c[-1])"
   ]
  },
  {
   "cell_type": "markdown",
   "metadata": {},
   "source": [
    "- Append\n",
    "    - list1.append(list2): Adds list2 as a last element in list1\n",
    "    - List can be appended by another list or single element (like int, float, string, etc.)\n",
    "    \n",
    "- Extend\n",
    "    - list1.extend(list2): Adds elements of list2 as elements in list1\n",
    "    - List MUST ALWAYS BE EXTENDED BY ANOTHER LIST ONLY."
   ]
  },
  {
   "cell_type": "code",
   "execution_count": 68,
   "metadata": {},
   "outputs": [
    {
     "name": "stdout",
     "output_type": "stream",
     "text": [
      "Append [1, 2, 3, [4, 5, 6]]\n",
      "Extend [1, 2, 3, 4, 5, 6]\n"
     ]
    }
   ],
   "source": [
    "a = [1, 2, 3]\n",
    "b = [4, 5, 6]\n",
    "\n",
    "a.append(b)\n",
    "print('Append to a', a)\n",
    "\n",
    "a = [1, 2, 3]\n",
    "b = [4, 5, 6]\n",
    "\n",
    "a.extend(b)\n",
    "print('Extend to a', a)"
   ]
  },
  {
   "cell_type": "code",
   "execution_count": 1,
   "metadata": {},
   "outputs": [
    {
     "name": "stdout",
     "output_type": "stream",
     "text": [
      "Append to b [4, 5, 6, [1, 2, 3]]\n",
      "Extend to b [4, 5, 6, 1, 2, 3]\n"
     ]
    }
   ],
   "source": [
    "a = [1, 2, 3]\n",
    "b = [4, 5, 6]\n",
    "\n",
    "b.append(a)\n",
    "print('Append to b', b)\n",
    "\n",
    "a = [1, 2, 3]\n",
    "b = [4, 5, 6]\n",
    "\n",
    "b.extend(a)\n",
    "print('Extend to b', b)"
   ]
  },
  {
   "cell_type": "code",
   "execution_count": 9,
   "metadata": {},
   "outputs": [
    {
     "name": "stdout",
     "output_type": "stream",
     "text": [
      "Append element to list a [1, 2, 3, 'Pramod']\n"
     ]
    }
   ],
   "source": [
    "a = [1, 2, 3]\n",
    "b = 'Pramod'\n",
    "\n",
    "a.append(b)\n",
    "print('Append element to list a', a)"
   ]
  },
  {
   "cell_type": "code",
   "execution_count": 11,
   "metadata": {},
   "outputs": [
    {
     "ename": "TypeError",
     "evalue": "'int' object is not iterable",
     "output_type": "error",
     "traceback": [
      "\u001b[1;31m---------------------------------------------------------------------------\u001b[0m",
      "\u001b[1;31mTypeError\u001b[0m                                 Traceback (most recent call last)",
      "\u001b[1;32m<ipython-input-11-95ead2be971b>\u001b[0m in \u001b[0;36m<module>\u001b[1;34m\u001b[0m\n\u001b[0;32m      2\u001b[0m \u001b[0mb\u001b[0m \u001b[1;33m=\u001b[0m \u001b[1;36m5\u001b[0m\u001b[1;33m\u001b[0m\u001b[1;33m\u001b[0m\u001b[0m\n\u001b[0;32m      3\u001b[0m \u001b[1;33m\u001b[0m\u001b[0m\n\u001b[1;32m----> 4\u001b[1;33m \u001b[0ma\u001b[0m\u001b[1;33m.\u001b[0m\u001b[0mextend\u001b[0m\u001b[1;33m(\u001b[0m\u001b[0mb\u001b[0m\u001b[1;33m)\u001b[0m\u001b[1;33m\u001b[0m\u001b[1;33m\u001b[0m\u001b[0m\n\u001b[0m\u001b[0;32m      5\u001b[0m \u001b[0mprint\u001b[0m\u001b[1;33m(\u001b[0m\u001b[1;34m'Extend element to list a'\u001b[0m\u001b[1;33m,\u001b[0m \u001b[0ma\u001b[0m\u001b[1;33m)\u001b[0m\u001b[1;33m\u001b[0m\u001b[1;33m\u001b[0m\u001b[0m\n",
      "\u001b[1;31mTypeError\u001b[0m: 'int' object is not iterable"
     ]
    }
   ],
   "source": [
    "a = [1, 2, 3]\n",
    "b = 5\n",
    "\n",
    "a.extend(b)\n",
    "print('Extend element to list a', a)"
   ]
  },
  {
   "cell_type": "code",
   "execution_count": 14,
   "metadata": {},
   "outputs": [
    {
     "name": "stdout",
     "output_type": "stream",
     "text": [
      "<class 'str'>\n"
     ]
    }
   ],
   "source": [
    "a = 'Pramod'\n",
    "print(type(a))"
   ]
  },
  {
   "cell_type": "markdown",
   "metadata": {},
   "source": [
    "Internally Python assumes a string as a list of characters. We can consider a string to be a special type of list with only characters."
   ]
  },
  {
   "cell_type": "code",
   "execution_count": 15,
   "metadata": {},
   "outputs": [
    {
     "data": {
      "text/plain": [
       "'r'"
      ]
     },
     "execution_count": 15,
     "metadata": {},
     "output_type": "execute_result"
    }
   ],
   "source": [
    "a[1]"
   ]
  },
  {
   "cell_type": "code",
   "execution_count": 16,
   "metadata": {},
   "outputs": [
    {
     "data": {
      "text/plain": [
       "'d'"
      ]
     },
     "execution_count": 16,
     "metadata": {},
     "output_type": "execute_result"
    }
   ],
   "source": [
    "a[-1]"
   ]
  },
  {
   "cell_type": "code",
   "execution_count": 17,
   "metadata": {},
   "outputs": [
    {
     "data": {
      "text/plain": [
       "'am'"
      ]
     },
     "execution_count": 17,
     "metadata": {},
     "output_type": "execute_result"
    }
   ],
   "source": [
    "a[2:4]"
   ]
  },
  {
   "cell_type": "code",
   "execution_count": 18,
   "metadata": {},
   "outputs": [
    {
     "data": {
      "text/plain": [
       "('amod', 'Pram')"
      ]
     },
     "execution_count": 18,
     "metadata": {},
     "output_type": "execute_result"
    }
   ],
   "source": [
    "a[2:], a[:4]"
   ]
  },
  {
   "cell_type": "markdown",
   "metadata": {},
   "source": [
    "## Mutation\n",
    "We can change elements inside a Python object (list, int, float, etc.) without creating new object. Such objects are called as mutable objects."
   ]
  },
  {
   "cell_type": "code",
   "execution_count": 21,
   "metadata": {},
   "outputs": [
    {
     "name": "stdout",
     "output_type": "stream",
     "text": [
      "Before: [1, 2, 3]\n",
      "After: [1, -1, 3]\n"
     ]
    }
   ],
   "source": [
    "a = [1 , 2 , 3]\n",
    "print('Before:', a)\n",
    "a[1] = -1\n",
    "print('After:', a)"
   ]
  },
  {
   "cell_type": "markdown",
   "metadata": {},
   "source": [
    "## Tuple"
   ]
  },
  {
   "cell_type": "code",
   "execution_count": 22,
   "metadata": {},
   "outputs": [
    {
     "name": "stdout",
     "output_type": "stream",
     "text": [
      "(1, 2, 3) <class 'tuple'>\n"
     ]
    }
   ],
   "source": [
    "a = (1, 2, 3)\n",
    "print(a, type(a))"
   ]
  },
  {
   "cell_type": "markdown",
   "metadata": {},
   "source": [
    "Indexing and slicing of a tuple object is same as list."
   ]
  },
  {
   "cell_type": "code",
   "execution_count": 25,
   "metadata": {},
   "outputs": [
    {
     "name": "stdout",
     "output_type": "stream",
     "text": [
      "1 3 (1, 2) (2, 3)\n"
     ]
    }
   ],
   "source": [
    "print(a[0], a[-1], a[:2], a[1:])"
   ]
  },
  {
   "cell_type": "markdown",
   "metadata": {},
   "source": [
    "Tuples are not mutable. (i.e. once created we can not change any element in tuple)"
   ]
  },
  {
   "cell_type": "code",
   "execution_count": 27,
   "metadata": {},
   "outputs": [
    {
     "ename": "TypeError",
     "evalue": "'tuple' object does not support item assignment",
     "output_type": "error",
     "traceback": [
      "\u001b[1;31m---------------------------------------------------------------------------\u001b[0m",
      "\u001b[1;31mTypeError\u001b[0m                                 Traceback (most recent call last)",
      "\u001b[1;32m<ipython-input-27-15fa8c7238e3>\u001b[0m in \u001b[0;36m<module>\u001b[1;34m\u001b[0m\n\u001b[1;32m----> 1\u001b[1;33m \u001b[0ma\u001b[0m\u001b[1;33m[\u001b[0m\u001b[1;36m1\u001b[0m\u001b[1;33m]\u001b[0m \u001b[1;33m=\u001b[0m \u001b[1;33m-\u001b[0m\u001b[1;36m1\u001b[0m\u001b[1;33m\u001b[0m\u001b[1;33m\u001b[0m\u001b[0m\n\u001b[0m",
      "\u001b[1;31mTypeError\u001b[0m: 'tuple' object does not support item assignment"
     ]
    }
   ],
   "source": [
    "a[1] = -1"
   ]
  },
  {
   "cell_type": "code",
   "execution_count": 29,
   "metadata": {},
   "outputs": [
    {
     "name": "stdout",
     "output_type": "stream",
     "text": [
      "(1, 2, 3) <class 'tuple'>\n"
     ]
    }
   ],
   "source": [
    "a = tuple([1,2,3])\n",
    "print(a, type(a))"
   ]
  },
  {
   "cell_type": "markdown",
   "metadata": {},
   "source": [
    "## Dictionary\n",
    "\n",
    "It is a key value pair.\n",
    "marks:\n",
    "    Pramod 20\n",
    "    Ritwik 25\n",
    "    Addi   30\n",
    "    \n",
    "Syntax:\n",
    "  dic = {key1 : value1, key2: value2, key3: value3, ....}\n",
    "  \n",
    "  Keys must be unique. Values may not be unique."
   ]
  },
  {
   "cell_type": "code",
   "execution_count": 32,
   "metadata": {},
   "outputs": [],
   "source": [
    "marks = {'Pramod':20, 'Ritwik':25, 'Aadi':30}"
   ]
  },
  {
   "cell_type": "code",
   "execution_count": 33,
   "metadata": {},
   "outputs": [
    {
     "data": {
      "text/plain": [
       "20"
      ]
     },
     "execution_count": 33,
     "metadata": {},
     "output_type": "execute_result"
    }
   ],
   "source": [
    "marks['Pramod']"
   ]
  },
  {
   "cell_type": "code",
   "execution_count": 34,
   "metadata": {},
   "outputs": [
    {
     "data": {
      "text/plain": [
       "25"
      ]
     },
     "execution_count": 34,
     "metadata": {},
     "output_type": "execute_result"
    }
   ],
   "source": [
    "marks['Ritwik']"
   ]
  },
  {
   "cell_type": "code",
   "execution_count": 35,
   "metadata": {},
   "outputs": [
    {
     "data": {
      "text/plain": [
       "dict_keys(['Pramod', 'Ritwik', 'Aadi'])"
      ]
     },
     "execution_count": 35,
     "metadata": {},
     "output_type": "execute_result"
    }
   ],
   "source": [
    "marks.keys()"
   ]
  },
  {
   "cell_type": "code",
   "execution_count": 36,
   "metadata": {},
   "outputs": [
    {
     "data": {
      "text/plain": [
       "dict_values([20, 25, 30])"
      ]
     },
     "execution_count": 36,
     "metadata": {},
     "output_type": "execute_result"
    }
   ],
   "source": [
    "marks.values()"
   ]
  },
  {
   "cell_type": "code",
   "execution_count": 39,
   "metadata": {},
   "outputs": [
    {
     "data": {
      "text/plain": [
       "('Ritwik', 25)"
      ]
     },
     "execution_count": 39,
     "metadata": {},
     "output_type": "execute_result"
    }
   ],
   "source": [
    "list(marks.items())[1]"
   ]
  },
  {
   "cell_type": "markdown",
   "metadata": {},
   "source": [
    "Dictionary can not have duplicate keys. If a dictionary is created with duplicate keys then the later keya and value pair is stored."
   ]
  },
  {
   "cell_type": "code",
   "execution_count": 42,
   "metadata": {},
   "outputs": [
    {
     "name": "stdout",
     "output_type": "stream",
     "text": [
      "{'Pramod': 25, 'Aadi': 30}\n"
     ]
    }
   ],
   "source": [
    "marks = {'Pramod':20, 'Pramod':25, 'Aadi':30}\n",
    "print(marks)"
   ]
  },
  {
   "cell_type": "code",
   "execution_count": 43,
   "metadata": {},
   "outputs": [
    {
     "name": "stdout",
     "output_type": "stream",
     "text": [
      "{'Pramod': 20, 'Ritwik': 20, 'Aadi': 30}\n"
     ]
    }
   ],
   "source": [
    "marks = {'Pramod':20, 'Ritwik':20, 'Aadi':30}\n",
    "print(marks)"
   ]
  },
  {
   "cell_type": "code",
   "execution_count": 44,
   "metadata": {},
   "outputs": [
    {
     "name": "stdout",
     "output_type": "stream",
     "text": [
      "Pramod\n"
     ]
    }
   ],
   "source": [
    "marks = {20: 'Pramod', 25: ['Ritwik', 'Aadi']}\n",
    "print(marks[20])"
   ]
  },
  {
   "cell_type": "code",
   "execution_count": 45,
   "metadata": {},
   "outputs": [
    {
     "data": {
      "text/plain": [
       "['Ritwik', 'Aadi']"
      ]
     },
     "execution_count": 45,
     "metadata": {},
     "output_type": "execute_result"
    }
   ],
   "source": [
    "marks[25]"
   ]
  },
  {
   "cell_type": "markdown",
   "metadata": {},
   "source": [
    "List (or tuple) can be a value inside a dictionary but not KEY."
   ]
  },
  {
   "cell_type": "code",
   "execution_count": 46,
   "metadata": {},
   "outputs": [
    {
     "ename": "TypeError",
     "evalue": "unhashable type: 'list'",
     "output_type": "error",
     "traceback": [
      "\u001b[1;31m---------------------------------------------------------------------------\u001b[0m",
      "\u001b[1;31mTypeError\u001b[0m                                 Traceback (most recent call last)",
      "\u001b[1;32m<ipython-input-46-f8f6a30ef7e9>\u001b[0m in \u001b[0;36m<module>\u001b[1;34m\u001b[0m\n\u001b[1;32m----> 1\u001b[1;33m \u001b[0mmarks\u001b[0m \u001b[1;33m=\u001b[0m \u001b[1;33m{\u001b[0m\u001b[1;36m20\u001b[0m\u001b[1;33m:\u001b[0m \u001b[1;34m'Pramod'\u001b[0m\u001b[1;33m,\u001b[0m \u001b[1;33m[\u001b[0m\u001b[1;34m'Ritwik'\u001b[0m\u001b[1;33m,\u001b[0m \u001b[1;34m'Aadi'\u001b[0m\u001b[1;33m]\u001b[0m\u001b[1;33m:\u001b[0m\u001b[1;36m25\u001b[0m\u001b[1;33m}\u001b[0m\u001b[1;33m\u001b[0m\u001b[1;33m\u001b[0m\u001b[0m\n\u001b[0m",
      "\u001b[1;31mTypeError\u001b[0m: unhashable type: 'list'"
     ]
    }
   ],
   "source": [
    "marks = {20: 'Pramod', ['Ritwik', 'Aadi']:25}"
   ]
  },
  {
   "cell_type": "markdown",
   "metadata": {},
   "source": [
    "## Set\n",
    "\n",
    "It contains only unique values"
   ]
  },
  {
   "cell_type": "code",
   "execution_count": 47,
   "metadata": {},
   "outputs": [
    {
     "name": "stdout",
     "output_type": "stream",
     "text": [
      "[1, 2, 3, 4, 5, 1, 2] <class 'list'>\n"
     ]
    }
   ],
   "source": [
    "a = [1,2,3,4,5, 1,2]\n",
    "print(a, type(a))"
   ]
  },
  {
   "cell_type": "code",
   "execution_count": 49,
   "metadata": {},
   "outputs": [
    {
     "name": "stdout",
     "output_type": "stream",
     "text": [
      "{1, 2, 3, 4, 5} <class 'set'>\n"
     ]
    }
   ],
   "source": [
    "b = set(a)\n",
    "print(b, type(b))"
   ]
  },
  {
   "cell_type": "code",
   "execution_count": 50,
   "metadata": {},
   "outputs": [
    {
     "name": "stdout",
     "output_type": "stream",
     "text": [
      "{1, 2, 3, 4, 5} <class 'set'>\n"
     ]
    }
   ],
   "source": [
    "a = {1, 2, 3, 4, 5, 1, 2}\n",
    "print(a, type(a))"
   ]
  },
  {
   "cell_type": "code",
   "execution_count": 52,
   "metadata": {},
   "outputs": [
    {
     "name": "stdout",
     "output_type": "stream",
     "text": [
      "{'a', 'm', 'r', 'o', 'P', 'd'}\n"
     ]
    }
   ],
   "source": [
    "print(set('Pramod'))"
   ]
  },
  {
   "cell_type": "code",
   "execution_count": 60,
   "metadata": {},
   "outputs": [
    {
     "data": {
      "text/plain": [
       "'a'"
      ]
     },
     "execution_count": 60,
     "metadata": {},
     "output_type": "execute_result"
    }
   ],
   "source": [
    "a = set('Pramod')\n",
    "list(a)[0]"
   ]
  },
  {
   "cell_type": "markdown",
   "metadata": {},
   "source": [
    "## Range\n",
    "\n",
    "syntax:\n",
    "range(start, stop, step)\n",
    "It creates a sequence of numbers from 'start' to 'stop-1' with a increment of 'step'.\n",
    "\n",
    "range(start, stop)\n",
    "It creates a sequence of numbers from 'start' to 'stop-1'\n",
    "\n",
    "range(stop)\n",
    "It creates a sequence of numbers from 0 to 'stop-1'\n"
   ]
  },
  {
   "cell_type": "code",
   "execution_count": 63,
   "metadata": {},
   "outputs": [
    {
     "name": "stdout",
     "output_type": "stream",
     "text": [
      "[0, 1, 2, 3, 4, 5, 6, 7, 8, 9]\n"
     ]
    }
   ],
   "source": [
    "a = list(range(10))\n",
    "print(a)"
   ]
  },
  {
   "cell_type": "code",
   "execution_count": 64,
   "metadata": {},
   "outputs": [
    {
     "name": "stdout",
     "output_type": "stream",
     "text": [
      "[4, 5, 6, 7, 8, 9]\n"
     ]
    }
   ],
   "source": [
    "a = list(range(4, 10))\n",
    "print(a)"
   ]
  },
  {
   "cell_type": "code",
   "execution_count": 65,
   "metadata": {},
   "outputs": [
    {
     "name": "stdout",
     "output_type": "stream",
     "text": [
      "[4, 6, 8]\n"
     ]
    }
   ],
   "source": [
    "a = list(range(4, 10, 2))\n",
    "print(a)"
   ]
  },
  {
   "cell_type": "code",
   "execution_count": 66,
   "metadata": {},
   "outputs": [
    {
     "name": "stdout",
     "output_type": "stream",
     "text": [
      "[4, 7]\n"
     ]
    }
   ],
   "source": [
    "a = list(range(4, 10, 3))\n",
    "print(a)"
   ]
  },
  {
   "cell_type": "markdown",
   "metadata": {},
   "source": [
    "## For lop\n",
    "\n",
    "It is a looping function to repeat a particular task for fixed number of times.\n",
    "\n",
    "syntax:\n",
    "\n",
    "\n",
    "for iter in list (or tuple or collection of data):\n",
    "    Statement 1\n",
    "    Statement 2\n",
    "    ...\n",
    "    Statement N\n",
    "\n",
    "END OF OF FOR LOOP IS DENOTED BY REMOVING THE INDENT."
   ]
  },
  {
   "cell_type": "code",
   "execution_count": 67,
   "metadata": {},
   "outputs": [
    {
     "name": "stdout",
     "output_type": "stream",
     "text": [
      "Square of 2 is 4\n"
     ]
    }
   ],
   "source": [
    "num = 2\n",
    "print('Square of', num, 'is', num**2)"
   ]
  },
  {
   "cell_type": "code",
   "execution_count": 69,
   "metadata": {},
   "outputs": [
    {
     "name": "stdout",
     "output_type": "stream",
     "text": [
      "1\n",
      "2\n",
      "3\n",
      "4\n",
      "5\n",
      "6\n",
      "7\n",
      "8\n",
      "9\n",
      "10\n"
     ]
    }
   ],
   "source": [
    "for i in range(1, 11):\n",
    "    print(i)"
   ]
  },
  {
   "cell_type": "code",
   "execution_count": 74,
   "metadata": {},
   "outputs": [
    {
     "name": "stdout",
     "output_type": "stream",
     "text": [
      "Hi\n",
      "Hi\n",
      "Hi\n",
      "Hi\n",
      "Hi\n",
      "END Hi\n"
     ]
    }
   ],
   "source": [
    "for i in range(1, 11, 2):\n",
    "    print('Hi')\n",
    "print('END Hi')"
   ]
  },
  {
   "cell_type": "markdown",
   "metadata": {},
   "source": [
    "Print the squares of all  numbers from 1 to 10 (including)."
   ]
  },
  {
   "cell_type": "code",
   "execution_count": 76,
   "metadata": {},
   "outputs": [
    {
     "name": "stdout",
     "output_type": "stream",
     "text": [
      "Square of 1 is 1\n",
      "Square of 2 is 4\n",
      "Square of 3 is 9\n",
      "Square of 4 is 16\n",
      "Square of 5 is 25\n",
      "Square of 6 is 36\n",
      "Square of 7 is 49\n",
      "Square of 8 is 64\n",
      "Square of 9 is 81\n",
      "Square of 10 is 100\n"
     ]
    }
   ],
   "source": [
    "for num in range(1, 11):\n",
    "    print('Square of', num, 'is', num**2)"
   ]
  },
  {
   "cell_type": "markdown",
   "metadata": {},
   "source": [
    "Print the squares of all even numbers from 1 to 10 (including)."
   ]
  },
  {
   "cell_type": "code",
   "execution_count": 1,
   "metadata": {},
   "outputs": [
    {
     "name": "stdout",
     "output_type": "stream",
     "text": [
      "Square of 2 is 4\n",
      "Square of 4 is 16\n",
      "Square of 6 is 36\n",
      "Square of 8 is 64\n",
      "Square of 10 is 100\n"
     ]
    }
   ],
   "source": [
    "for num in range(2, 11, 2):\n",
    "    print('Square of', num, 'is', num**2)"
   ]
  },
  {
   "cell_type": "markdown",
   "metadata": {},
   "source": [
    "Print the squares of all odd numbers from 1 to 10 (including)."
   ]
  },
  {
   "cell_type": "code",
   "execution_count": 2,
   "metadata": {},
   "outputs": [
    {
     "name": "stdout",
     "output_type": "stream",
     "text": [
      "Square of 1 is 1\n",
      "Square of 3 is 9\n",
      "Square of 5 is 25\n",
      "Square of 7 is 49\n",
      "Square of 9 is 81\n"
     ]
    }
   ],
   "source": [
    "for num in range(1, 11, 2):\n",
    "    print('Square of', num, 'is', num**2)"
   ]
  },
  {
   "cell_type": "markdown",
   "metadata": {},
   "source": [
    "Print table of 4."
   ]
  },
  {
   "cell_type": "code",
   "execution_count": 3,
   "metadata": {},
   "outputs": [
    {
     "name": "stdout",
     "output_type": "stream",
     "text": [
      "4 * 1 = 4\n",
      "4 * 2 = 8\n",
      "4 * 3 = 12\n",
      "4 * 4 = 16\n",
      "4 * 5 = 20\n",
      "4 * 6 = 24\n",
      "4 * 7 = 28\n",
      "4 * 8 = 32\n",
      "4 * 9 = 36\n",
      "4 * 10 = 40\n"
     ]
    }
   ],
   "source": [
    "for num in range(1, 11):\n",
    "    print(4, '*', num, '=', 4*num)"
   ]
  },
  {
   "cell_type": "markdown",
   "metadata": {},
   "source": [
    "list_of_names = ['Pramod', 'Ritwik', 'Aadi']\n",
    "for name in list_of_names:\n",
    "    print(name)\n",
    "    \n",
    "    \n",
    "iter-0:\n",
    "    Pick 0th element from the list -> 'Pramod'\n",
    "    Assign picked element to the iterative variable -> name = 'Pramod'\n",
    "    Execute for loop cmds\n",
    "    \n",
    "iter-1:    \n",
    "    Pick 1st element if is available -> 'Ritwik'\n",
    "    Assign picked element to the iterative variable -> name = 'Ritwik'\n",
    "    Execute for loop cmds\n",
    "    \n",
    "iter-2:\n",
    "    Pick 2nd element if is available -> 'Aadi'\n",
    "    Assign picked element to the iterative variable -> name = 'Aadi'\n",
    "    Execute for loop cmds\n",
    "    \n",
    "iter-3:\n",
    "    Next element is not available -> STOP\n",
    " or Number of iter = len(list_of_names) -> STOP"
   ]
  },
  {
   "cell_type": "code",
   "execution_count": 2,
   "metadata": {},
   "outputs": [
    {
     "name": "stdout",
     "output_type": "stream",
     "text": [
      "Pramod\n",
      "Ritwik\n",
      "Aadi\n",
      "Anita\n",
      "Pooja\n",
      "Nihit\n"
     ]
    },
    {
     "data": {
      "text/plain": [
       "'Nihit'"
      ]
     },
     "execution_count": 2,
     "metadata": {},
     "output_type": "execute_result"
    }
   ],
   "source": [
    "list_of_names = ['Pramod', 'Ritwik', 'Aadi', 'Anita', 'Pooja', 'Nihit']\n",
    "for name in list_of_names:\n",
    "    print(name)\n",
    "\n",
    "name"
   ]
  },
  {
   "cell_type": "markdown",
   "metadata": {},
   "source": [
    "list_of_names = ['Pramod', 'Ritwik', 'Aadi', 'Anita', 'Pooja', 'Nihit']\n",
    "list_of_marks = [80, 90, 95, 70, 65, 60]\n",
    "\n",
    "for ii in range(len(list_of_names)):\n",
    "    print(list_of_names[ii], 'has got ', list_of_marks[ii])\n",
    "    \n",
    "    \n",
    "iter-0:\n",
    "    Pick the 0th element -> ii = 0\n",
    "    list_of_names[ii] -> 'Pramod'\n",
    "    list_of_marks[ii] -> 80\n",
    "\n",
    "iter-1:\n",
    "    Pick the 0th element -> ii = 1\n",
    "    list_of_names[ii] -> 'Ritwik'\n",
    "    list_of_marks[ii] -> 90    \n",
    "    "
   ]
  },
  {
   "cell_type": "code",
   "execution_count": 5,
   "metadata": {},
   "outputs": [
    {
     "name": "stdout",
     "output_type": "stream",
     "text": [
      "Pramod has got  80\n",
      "Ritwik has got  90\n",
      "Aadi has got  95\n",
      "Anita has got  70\n",
      "Pooja has got  65\n",
      "Nihit has got  60\n"
     ]
    }
   ],
   "source": [
    "list_of_names = ['Pramod', 'Ritwik', 'Aadi', 'Anita', 'Pooja', 'Nihit']\n",
    "list_of_marks = [80, 90, 95, 70, 65, 60]\n",
    "\n",
    "for ii in range(len(list_of_names)):\n",
    "    print(list_of_names[ii], 'has got ', list_of_marks[ii])"
   ]
  },
  {
   "cell_type": "code",
   "execution_count": 7,
   "metadata": {},
   "outputs": [
    {
     "name": "stdout",
     "output_type": "stream",
     "text": [
      "Pramod has got  80\n",
      "Ritwik has got  90\n",
      "Aadi has got  95\n",
      "Anita has got  70\n",
      "Pooja has got  65\n"
     ]
    }
   ],
   "source": [
    "list_of_names = ['Pramod', 'Ritwik', 'Aadi', 'Anita', 'Pooja']\n",
    "list_of_marks = [80, 90, 95, 70, 65, 60]\n",
    "\n",
    "for ii in range(len(list_of_names)):\n",
    "    print(list_of_names[ii], 'has got ', list_of_marks[ii])"
   ]
  },
  {
   "cell_type": "code",
   "execution_count": 8,
   "metadata": {},
   "outputs": [
    {
     "name": "stdout",
     "output_type": "stream",
     "text": [
      "Pramod has got  80\n",
      "Ritwik has got  90\n",
      "Aadi has got  95\n",
      "Anita has got  70\n",
      "Pooja has got  65\n"
     ]
    },
    {
     "ename": "IndexError",
     "evalue": "list index out of range",
     "output_type": "error",
     "traceback": [
      "\u001b[1;31m---------------------------------------------------------------------------\u001b[0m",
      "\u001b[1;31mIndexError\u001b[0m                                Traceback (most recent call last)",
      "\u001b[1;32m<ipython-input-8-10bfe67db0df>\u001b[0m in \u001b[0;36m<module>\u001b[1;34m\u001b[0m\n\u001b[0;32m      3\u001b[0m \u001b[1;33m\u001b[0m\u001b[0m\n\u001b[0;32m      4\u001b[0m \u001b[1;32mfor\u001b[0m \u001b[0mii\u001b[0m \u001b[1;32min\u001b[0m \u001b[0mrange\u001b[0m\u001b[1;33m(\u001b[0m\u001b[0mlen\u001b[0m\u001b[1;33m(\u001b[0m\u001b[0mlist_of_names\u001b[0m\u001b[1;33m)\u001b[0m\u001b[1;33m)\u001b[0m\u001b[1;33m:\u001b[0m\u001b[1;33m\u001b[0m\u001b[1;33m\u001b[0m\u001b[0m\n\u001b[1;32m----> 5\u001b[1;33m     \u001b[0mprint\u001b[0m\u001b[1;33m(\u001b[0m\u001b[0mlist_of_names\u001b[0m\u001b[1;33m[\u001b[0m\u001b[0mii\u001b[0m\u001b[1;33m]\u001b[0m\u001b[1;33m,\u001b[0m \u001b[1;34m'has got '\u001b[0m\u001b[1;33m,\u001b[0m \u001b[0mlist_of_marks\u001b[0m\u001b[1;33m[\u001b[0m\u001b[0mii\u001b[0m\u001b[1;33m]\u001b[0m\u001b[1;33m)\u001b[0m\u001b[1;33m\u001b[0m\u001b[1;33m\u001b[0m\u001b[0m\n\u001b[0m",
      "\u001b[1;31mIndexError\u001b[0m: list index out of range"
     ]
    }
   ],
   "source": [
    "list_of_names = ['Pramod', 'Ritwik', 'Aadi', 'Anita', 'Pooja', 'Nihit']\n",
    "list_of_marks = [80, 90, 95, 70, 65]\n",
    "\n",
    "for ii in range(len(list_of_names)):\n",
    "    print(list_of_names[ii], 'has got ', list_of_marks[ii])"
   ]
  },
  {
   "cell_type": "markdown",
   "metadata": {},
   "source": [
    "SYNTAX:\n",
    "    for item1, item2, ... in zip(list1, list2, ...):\n",
    "        code\n",
    "\n",
    "NOTE:  For loop will be executed for min(len(list1), len(list2), ...)"
   ]
  },
  {
   "cell_type": "markdown",
   "metadata": {},
   "source": [
    "list_of_names = ['Pramod', 'Ritwik', 'Aadi', 'Anita', 'Pooja', 'Nihit']\n",
    "list_of_marks = [80, 90, 95, 70, 65]\n",
    "\n",
    "for name, mark in zip(list_of_names, list_of_marks):\n",
    "    print(name, 'has got ', mark)\n",
    "    \n",
    "    \n",
    "iter-0:\n",
    "    Pick 0th element from list_of_names -> name='Pramod'\n",
    "    Pick 0th element from list_of_marks -> mark=80\n",
    "\n",
    "iter-1:\n",
    "    Pick 1st element from list_of_names -> name='Ritwik'\n",
    "    Pick 1st element from list_of_marks -> mark=90   \n",
    "    "
   ]
  },
  {
   "cell_type": "code",
   "execution_count": 12,
   "metadata": {},
   "outputs": [
    {
     "name": "stdout",
     "output_type": "stream",
     "text": [
      "Pramod has got  80\n",
      "Ritwik has got  90\n",
      "Aadi has got  95\n",
      "Anita has got  70\n",
      "Pooja has got  65\n"
     ]
    }
   ],
   "source": [
    "list_of_names = ['Pramod', 'Ritwik', 'Aadi', 'Anita', 'Pooja', 'Nihit']\n",
    "list_of_marks = [80, 90, 95, 70, 65]\n",
    "\n",
    "for name, mark in zip(list_of_names, list_of_marks):\n",
    "    print(name, 'has got ', mark)"
   ]
  },
  {
   "cell_type": "code",
   "execution_count": 16,
   "metadata": {},
   "outputs": [
    {
     "name": "stdout",
     "output_type": "stream",
     "text": [
      "Pramod has got 80\n",
      "Ritwik has got 90\n",
      "Aadi has got 95\n",
      "Anita has got 70\n",
      "Pooja has got 65\n",
      "Nihit has got 60\n"
     ]
    }
   ],
   "source": [
    "dic_of_students = {'Pramod':80, 'Ritwik':90, 'Aadi':95, 'Anita':70, 'Pooja':65, 'Nihit':60}\n",
    "\n",
    "for name in dic_of_students.keys():\n",
    "    print(name, 'has got', dic_of_students[name])"
   ]
  },
  {
   "cell_type": "code",
   "execution_count": 17,
   "metadata": {},
   "outputs": [
    {
     "data": {
      "text/plain": [
       "90"
      ]
     },
     "execution_count": 17,
     "metadata": {},
     "output_type": "execute_result"
    }
   ],
   "source": [
    "dic_of_students['Ritwik']"
   ]
  },
  {
   "cell_type": "markdown",
   "metadata": {},
   "source": [
    "dic_of_students.keys() -> List of keys [key1, key2, ....]\n",
    "dic_of_students.values() -> List of values [value1, value2, ....]\n",
    "dic_of_students.items() -> List of tuples [(key1, value1), (key2, value2), ....]"
   ]
  },
  {
   "cell_type": "code",
   "execution_count": 20,
   "metadata": {},
   "outputs": [
    {
     "name": "stdout",
     "output_type": "stream",
     "text": [
      "Pramod has got 80\n",
      "Ritwik has got 90\n",
      "Aadi has got 95\n",
      "Anita has got 70\n",
      "Pooja has got 65\n",
      "Nihit has got 60\n"
     ]
    }
   ],
   "source": [
    "dic_of_students = {'Pramod':80, 'Ritwik':90, 'Aadi':95, 'Anita':70, 'Pooja':65, 'Nihit':60}\n",
    "\n",
    "for name, mark in dic_of_students.items():\n",
    "    print(name, 'has got', mark)"
   ]
  },
  {
   "cell_type": "code",
   "execution_count": 22,
   "metadata": {},
   "outputs": [
    {
     "name": "stdout",
     "output_type": "stream",
     "text": [
      "Pramod has got  80\n",
      "Ritwik has got  90\n",
      "Aadi has got  95\n",
      "Anita has got  70\n",
      "Pooja has got  65\n",
      "Nihit has got  60\n"
     ]
    }
   ],
   "source": [
    "tup_of_names = ('Pramod', 'Ritwik', 'Aadi', 'Anita', 'Pooja', 'Nihit')\n",
    "tup_of_marks = (80, 90, 95, 70, 65, 60)\n",
    "\n",
    "for name, mark in zip(tup_of_names, tup_of_marks):\n",
    "    print(name, 'has got ', mark)"
   ]
  },
  {
   "cell_type": "markdown",
   "metadata": {},
   "source": [
    "## While"
   ]
  },
  {
   "cell_type": "markdown",
   "metadata": {},
   "source": [
    "SYNTAX:\n",
    "     while condition(s):\n",
    "            code\n",
    "\n",
    "in whiel loop the iterator need to be incremented/ decreamented by the programmer            "
   ]
  },
  {
   "cell_type": "markdown",
   "metadata": {},
   "source": [
    "num = 1\n",
    "while num < 11:\n",
    "    print(num**2)\n",
    "    num = num + 1 \n",
    "    \n",
    "iter-0:\n",
    "    num = 1\n",
    "    cond: 1 < 11 -> TRUE\n",
    "        execute the code\n",
    "        num = num + 1 -> num= 2\n",
    "iter-1:\n",
    "    num = 2\n",
    "    cond: 2 < 11 -> TRUE\n",
    "        execute the code\n",
    "        num = num + 1 -> num= 3\n",
    "iter-2:\n",
    "    num = 3\n",
    "    cond: 3 < 11 -> TRUE\n",
    "        execute the code\n",
    "        num = num + 1 -> num= 4\n",
    "...\n",
    "\n",
    "iter-9:\n",
    "    num =10\n",
    "    cond: 10 < 11 -> TRUE\n",
    "        execute the code\n",
    "        num = num + 1 -> num= 11\n",
    "        \n",
    "iter-10:\n",
    "    num=11\n",
    "    cond: 11 < 11 -> FALSE\n",
    "        STOP While loop\n",
    "        "
   ]
  },
  {
   "cell_type": "code",
   "execution_count": 3,
   "metadata": {},
   "outputs": [
    {
     "name": "stdout",
     "output_type": "stream",
     "text": [
      "1\n",
      "4\n",
      "9\n",
      "16\n",
      "25\n",
      "36\n",
      "49\n",
      "64\n",
      "81\n",
      "100\n"
     ]
    }
   ],
   "source": [
    "num = 1\n",
    "while num < 11:\n",
    "    print(num**2)\n",
    "    num = num + 1 "
   ]
  },
  {
   "cell_type": "markdown",
   "metadata": {},
   "source": [
    "Print all even number < 11 square using while loop"
   ]
  },
  {
   "cell_type": "markdown",
   "metadata": {},
   "source": [
    "Print all odd number < 11 square using while loop"
   ]
  },
  {
   "cell_type": "markdown",
   "metadata": {},
   "source": [
    "Print table of 5 using while loop"
   ]
  },
  {
   "cell_type": "markdown",
   "metadata": {},
   "source": [
    "## If - else"
   ]
  },
  {
   "cell_type": "markdown",
   "metadata": {},
   "source": [
    "SYNTAX:\n",
    "    if condition(s):\n",
    "        Code if condition(s) are TRUE\n",
    "    else:\n",
    "        Code if condition(s) are FALSE"
   ]
  },
  {
   "cell_type": "code",
   "execution_count": 6,
   "metadata": {},
   "outputs": [
    {
     "name": "stdout",
     "output_type": "stream",
     "text": [
      "Pramod has got distinction.\n",
      "Ritwik has got distinction.\n",
      "Aadi has got distinction.\n",
      "Anita has got first class.\n",
      "Pooja has got first class.\n",
      "Nihit has got first class.\n"
     ]
    }
   ],
   "source": [
    "list_of_names = ['Pramod', 'Ritwik', 'Aadi', 'Anita', 'Pooja', 'Nihit']\n",
    "list_of_marks = [80, 90, 95, 70, 65, 60]\n",
    "\n",
    "# DIST.: marks > 75 \n",
    "# FIRST: marks <75\n",
    "\n",
    "for name, mark in zip(list_of_names, list_of_marks):\n",
    "    if mark > 75:\n",
    "        print(name, 'has got distinction.')\n",
    "    else:\n",
    "        print(name, 'has got first class.')"
   ]
  },
  {
   "cell_type": "code",
   "execution_count": 7,
   "metadata": {},
   "outputs": [
    {
     "name": "stdout",
     "output_type": "stream",
     "text": [
      "Pramod has got distinction.\n",
      "Ritwik has got distinction.\n",
      "Aadi has got distinction.\n"
     ]
    }
   ],
   "source": [
    "list_of_names = ['Pramod', 'Ritwik', 'Aadi', 'Anita', 'Pooja', 'Nihit']\n",
    "list_of_marks = [80, 90, 95, 70, 65, 60]\n",
    "\n",
    "# DIST.: marks > 75 \n",
    "# FIRST: marks <75\n",
    "\n",
    "for name, mark in zip(list_of_names, list_of_marks):\n",
    "    if mark > 75:\n",
    "        print(name, 'has got distinction.')"
   ]
  },
  {
   "cell_type": "markdown",
   "metadata": {},
   "source": [
    "## Logical Operators"
   ]
  },
  {
   "cell_type": "markdown",
   "metadata": {},
   "source": [
    "## Boolean \n",
    "\n",
    "True / False"
   ]
  },
  {
   "cell_type": "code",
   "execution_count": 4,
   "metadata": {},
   "outputs": [
    {
     "name": "stdout",
     "output_type": "stream",
     "text": [
      "True <class 'bool'>\n",
      "False <class 'bool'>\n"
     ]
    }
   ],
   "source": [
    "a = True\n",
    "print(a, type(a))\n",
    "\n",
    "b = False\n",
    "print(b, type(b))"
   ]
  },
  {
   "cell_type": "code",
   "execution_count": 7,
   "metadata": {},
   "outputs": [
    {
     "name": "stdout",
     "output_type": "stream",
     "text": [
      "False <class 'bool'>\n"
     ]
    }
   ],
   "source": [
    "c = 5 < 4\n",
    "print(c, type(c))"
   ]
  },
  {
   "cell_type": "code",
   "execution_count": 12,
   "metadata": {},
   "outputs": [],
   "source": [
    "a = 4\n",
    "b = 4\n",
    "if a>b:\n",
    "    print('a is greater than b.')\n",
    "elif b>a:\n",
    "    print('b is greater than a.')\n"
   ]
  },
  {
   "cell_type": "markdown",
   "metadata": {},
   "source": [
    "#### not operator\n",
    " Negation/negative\n",
    "    \n",
    "   if a =True then not a -> False\n",
    "   if a =False then not a -> True"
   ]
  },
  {
   "cell_type": "code",
   "execution_count": 14,
   "metadata": {},
   "outputs": [
    {
     "name": "stdout",
     "output_type": "stream",
     "text": [
      "False then not a is  True\n"
     ]
    }
   ],
   "source": [
    "a = False\n",
    "print(a, 'then not a is ', not a)"
   ]
  },
  {
   "cell_type": "markdown",
   "metadata": {},
   "source": [
    "#### and operator\n",
    "SYNTAX:\n",
    " condition1/boolean1 and condition2/boolean2\n",
    "\n",
    "   condition1/bool1    condition2/bool2        and\n",
    "    True                     True              True\n",
    "    True                     False             False\n",
    "    False                    True              False\n",
    "    False                    False             False\n",
    "    \n",
    "NOTE: AND results in TRUE only if both conditions (or booleans) are TURE.    "
   ]
  },
  {
   "cell_type": "code",
   "execution_count": 15,
   "metadata": {},
   "outputs": [
    {
     "name": "stdout",
     "output_type": "stream",
     "text": [
      "True | True | True\n",
      "True | False | False\n",
      "False | True | False\n",
      "False | False | False\n"
     ]
    }
   ],
   "source": [
    "print(True, '|', True, '|', True and True)\n",
    "print(True, '|', False, '|', True and False)\n",
    "print(False, '|', True, '|', False and True)\n",
    "print(False, '|', False, '|', False and False)"
   ]
  },
  {
   "cell_type": "markdown",
   "metadata": {},
   "source": [
    "#### or operator\n",
    "SYNTAX:\n",
    " condition1/boolean1 or condition2/boolean2\n",
    "\n",
    "   condition1/bool1    condition2/bool2        or\n",
    "    True                     True             True \n",
    "    True                     False            True \n",
    "    False                    True             True \n",
    "    False                    False            False \n",
    "    \n",
    "NOTE: OR results in FALSE only if both conditions (or booleans) are FALSE.    "
   ]
  },
  {
   "cell_type": "code",
   "execution_count": 16,
   "metadata": {},
   "outputs": [
    {
     "name": "stdout",
     "output_type": "stream",
     "text": [
      "True | True | True\n",
      "True | False | True\n",
      "False | True | True\n",
      "False | False | False\n"
     ]
    }
   ],
   "source": [
    "print(True, '|', True, '|', True or True)\n",
    "print(True, '|', False, '|', True or False)\n",
    "print(False, '|', True, '|', False or True)\n",
    "print(False, '|', False, '|', False or False)"
   ]
  },
  {
   "cell_type": "markdown",
   "metadata": {},
   "source": [
    "### Cascaded if-else\n",
    "if condition1(s):\n",
    "    code if condition1(s) are TRUE\n",
    "elif condition2(s):\n",
    "    code if condition2(s) are TRUE\n",
    "elif condition3(s):\n",
    "    code if condition3(s) are TRUE\n",
    "else:\n",
    "    code if all condition1(s), condition2(s), and condition3(s) are FALSE"
   ]
  },
  {
   "cell_type": "code",
   "execution_count": 17,
   "metadata": {},
   "outputs": [
    {
     "name": "stdout",
     "output_type": "stream",
     "text": [
      "Pramod has got pass class.\n",
      "Ritwik has got first class.\n",
      "Aadi has got second class.\n",
      "Anita has got first class.\n",
      "Pooja has got distinction.\n",
      "Nihit has failed.\n"
     ]
    }
   ],
   "source": [
    "list_of_names = ['Pramod', 'Ritwik', 'Aadi', 'Anita', 'Pooja', 'Nihit']\n",
    "list_of_marks = [45, 60, 55, 70, 85, 30]\n",
    "\n",
    "# DIST.: marks >= 75 \n",
    "# FIRST: 60 =< marks <75\n",
    "# SECOND: 50 =< marks <60\n",
    "# Pass : 40 =< marks < 50\n",
    "# Fails: marks < 40\n",
    "\n",
    "for name, mark in zip(list_of_names, list_of_marks):\n",
    "    if mark >= 75:\n",
    "        print(name, 'has got distinction.')\n",
    "    elif mark < 75 and mark >=60:\n",
    "        print(name, 'has got first class.')\n",
    "    elif mark < 60 and mark >=50:\n",
    "        print(name, 'has got second class.')\n",
    "    elif mark < 50 and mark >=40:\n",
    "        print(name, 'has got pass class.')\n",
    "    else:\n",
    "        print(name, 'has failed.')\n",
    "        "
   ]
  },
  {
   "cell_type": "code",
   "execution_count": 4,
   "metadata": {},
   "outputs": [
    {
     "name": "stdout",
     "output_type": "stream",
     "text": [
      "Pramod has got pass class.\n",
      "Ritwik has got first class.\n",
      "Aadi has got second class.\n",
      "Anita has got invalid marks.\n",
      "Pooja has got distinction.\n",
      "Nihit has got invalid marks.\n"
     ]
    }
   ],
   "source": [
    "list_of_names = ['Pramod', 'Ritwik', 'Aadi', 'Anita', 'Pooja', 'Nihit']\n",
    "list_of_marks = [45, 60, 55, 170, 85, -30]\n",
    "\n",
    "# DIST.: marks >= 75 \n",
    "# FIRST: 60 =< marks <75\n",
    "# SECOND: 50 =< marks <60\n",
    "# Pass : 40 =< marks < 50\n",
    "# Fails: marks < 40\n",
    "\n",
    "# Make sure to identify if person has invalid marks i.e. > 100 or < 0\n",
    "\n",
    "for name, mark in zip(list_of_names, list_of_marks):\n",
    "    if mark > 100 or mark < 0:\n",
    "        print(name, 'has got invalid marks.')\n",
    "    elif mark >= 75:\n",
    "        print(name, 'has got distinction.')\n",
    "    elif mark < 75 and mark >=60:\n",
    "        print(name, 'has got first class.')\n",
    "    elif mark < 60 and mark >=50:\n",
    "        print(name, 'has got second class.')\n",
    "    elif mark < 50 and mark >=40:\n",
    "        print(name, 'has got pass class.')\n",
    "    else:\n",
    "        print(name, 'has failed.')\n",
    "        "
   ]
  },
  {
   "cell_type": "markdown",
   "metadata": {},
   "source": [
    "Print squares of all numbers from 1 to 10 that are divisble by 2 but not by 4."
   ]
  },
  {
   "cell_type": "markdown",
   "metadata": {},
   "source": [
    "           and  or\n",
    "2   0  2    0    1\n",
    "4   0  0    0    0\n",
    "6   0  2    0    1\n",
    "8   0  0    0    0\n",
    "10  0  2    0    1"
   ]
  },
  {
   "cell_type": "code",
   "execution_count": 7,
   "metadata": {},
   "outputs": [
    {
     "name": "stdout",
     "output_type": "stream",
     "text": [
      "2 has square 4\n",
      "6 has square 36\n",
      "10 has square 100\n"
     ]
    }
   ],
   "source": [
    "for num in range(1, 11):\n",
    "    if num % 2 == 0 and num % 4 >0:\n",
    "        print(num, 'has square', num**2)"
   ]
  },
  {
   "cell_type": "code",
   "execution_count": 9,
   "metadata": {},
   "outputs": [
    {
     "name": "stdout",
     "output_type": "stream",
     "text": [
      "2 has square 4\n",
      "6 has square 36\n",
      "10 has square 100\n"
     ]
    }
   ],
   "source": [
    "for num in range(2, 11, 2):\n",
    "    if num % 4 >0:\n",
    "        print(num, 'has square', num**2)"
   ]
  },
  {
   "cell_type": "markdown",
   "metadata": {},
   "source": [
    "not 0  -> True\n",
    "not anything_other_than_0 -> False"
   ]
  },
  {
   "cell_type": "code",
   "execution_count": 19,
   "metadata": {},
   "outputs": [
    {
     "name": "stdout",
     "output_type": "stream",
     "text": [
      "3 has square 9\n",
      "6 has square 36\n",
      "9 has square 81\n"
     ]
    }
   ],
   "source": [
    "num1 = 3\n",
    "num2 = 5\n",
    "for num in range(1, 11):\n",
    "    if not num % num1 and num % num2:\n",
    "        print(num, 'has square', num**2)"
   ]
  },
  {
   "cell_type": "markdown",
   "metadata": {},
   "source": [
    "Print squares of all numbers from 1 to 10 that are divisble by 2 and 4."
   ]
  },
  {
   "cell_type": "code",
   "execution_count": 15,
   "metadata": {},
   "outputs": [
    {
     "name": "stdout",
     "output_type": "stream",
     "text": [
      "4 has square 16\n",
      "8 has square 64\n"
     ]
    }
   ],
   "source": [
    "for num in range(1, 11):\n",
    "    if not (num % 2 or num % 4):\n",
    "        print(num, 'has square', num**2)"
   ]
  },
  {
   "cell_type": "markdown",
   "metadata": {},
   "source": [
    "Print all prime numbers till n.\n",
    "\n",
    "\n",
    "for loop to iterate num from 1 to n -> for num in range(1, n+1)\n",
    "\n",
    "Detect if number if prime\n",
    "   A number if prime is it is not divisible by any number that is less than equal to half of itself.\n",
    "   for ii in range(2, n//2+1)"
   ]
  },
  {
   "cell_type": "markdown",
   "metadata": {},
   "source": [
    "continue -> Remaining statements in the same loop will be ignored (jump over to next iteration)\n",
    "break -> It stops the execution of the current loop"
   ]
  },
  {
   "cell_type": "markdown",
   "metadata": {},
   "source": [
    "iter-0\n",
    "    num =1\n",
    "        count=0\n",
    "        forloop -> from 2 to 1 -> does not execute\n",
    "            count = 0\n",
    "        print Prime\n",
    "iter-1\n",
    "    num = 2\n",
    "        count=0\n",
    "        forloop -> from 2 to 1 -> executes only for ii=\n",
    "            count= 0\n",
    "        print Prime\n",
    "\n",
    "iter-2\n",
    "    num = 3\n",
    "        count=0\n",
    "        forloop -> from 2 to 2 -> executes only for ii=2\n",
    "            3 % 2 -> 1 hence\n",
    "            count=0\n",
    "        print Prime\n",
    "        \n",
    "iter-3\n",
    "    num = 4\n",
    "        count = 0\n",
    "        forloop -> from 2 to 3 -> executes for ii =2\n",
    "            4 % 2 -> 0 hence\n",
    "            count = 1\n",
    "        nothing to print\n",
    "\n",
    "iter-4\n",
    "    num = 5\n",
    "        count=0\n",
    "        forloop -> from 2 to 3 -> executes only for ii=2\n",
    "            5 % 2 -> 3 hence\n",
    "            count=0\n",
    "        print Prime   \n",
    "\n",
    "iter-5\n",
    "    num = 6\n",
    "        count=0\n",
    "        forloop -> from 2 to 4 -> executes only for ii=2,3\n",
    "            6 % 2 -> 0 hence\n",
    "            6 % 3 -> 0 hence\n",
    "            count=2\n",
    "        print Prime          "
   ]
  },
  {
   "cell_type": "code",
   "execution_count": 25,
   "metadata": {},
   "outputs": [
    {
     "name": "stdout",
     "output_type": "stream",
     "text": [
      "2 is prime.\n",
      "3 is prime.\n",
      "5 is prime.\n",
      "7 is prime.\n"
     ]
    }
   ],
   "source": [
    "for num in range(1, 11):\n",
    "    if num == 1:\n",
    "        continue\n",
    "    count = 0\n",
    "    for ii in range(2, num//2+1):\n",
    "        if num % ii == 0:\n",
    "            count += 1\n",
    "                    \n",
    "    if count == 0:\n",
    "        print(num, 'is prime.')"
   ]
  },
  {
   "cell_type": "code",
   "execution_count": 29,
   "metadata": {},
   "outputs": [
    {
     "name": "stdout",
     "output_type": "stream",
     "text": [
      "1 is prime.\n",
      "2 is prime.\n"
     ]
    }
   ],
   "source": [
    "for num in range(1, 11):\n",
    "    if num == 3:\n",
    "        break\n",
    "    count = 0\n",
    "    for ii in range(2, num//2+1):\n",
    "        if num % ii == 0:\n",
    "            count += 1\n",
    "    if count == 0:\n",
    "        print(num, 'is prime.')"
   ]
  },
  {
   "cell_type": "code",
   "execution_count": 33,
   "metadata": {},
   "outputs": [
    {
     "name": "stdout",
     "output_type": "stream",
     "text": [
      "2 4 is not prime.\n",
      "2 6 is not prime.\n",
      "2 8 is not prime.\n",
      "3 9 is not prime.\n",
      "2 10 is not prime.\n"
     ]
    }
   ],
   "source": [
    "for num in range(1, 11):\n",
    "    if num == 1:\n",
    "        continue\n",
    "    for ii in range(2, num//2+1):\n",
    "        if num % ii == 0:\n",
    "            print(ii, num, 'is not prime.')\n",
    "            break"
   ]
  },
  {
   "cell_type": "code",
   "execution_count": 2,
   "metadata": {},
   "outputs": [
    {
     "name": "stdout",
     "output_type": "stream",
     "text": [
      "2 Factors: [2]\n",
      "3 Factors: [2]\n",
      "4 Factors: [2]\n",
      "5 Factors: [2, 5]\n",
      "[2, 5]\n"
     ]
    }
   ],
   "source": [
    "num = 10\n",
    "factors = []\n",
    "for ii in range(2, num//2+1):\n",
    "    if num % ii == 0:\n",
    "        factors.append(ii)\n",
    "    print(ii, 'Factors:', factors)\n",
    "\n",
    "print(factors)"
   ]
  },
  {
   "cell_type": "markdown",
   "metadata": {},
   "source": [
    "Print factors of a number or if it is Prime."
   ]
  },
  {
   "cell_type": "code",
   "execution_count": 36,
   "metadata": {},
   "outputs": [
    {
     "name": "stdout",
     "output_type": "stream",
     "text": [
      "1 is prime.\n",
      "2 is prime.\n",
      "3 is prime.\n",
      "4 has factors [2]\n",
      "5 is prime.\n",
      "6 has factors [2, 3]\n",
      "7 is prime.\n",
      "8 has factors [2, 4]\n",
      "9 has factors [3]\n",
      "10 has factors [2, 5]\n",
      "11 is prime.\n",
      "12 has factors [2, 3, 4, 6]\n",
      "13 is prime.\n",
      "14 has factors [2, 7]\n",
      "15 has factors [3, 5]\n",
      "16 has factors [2, 4, 8]\n",
      "17 is prime.\n",
      "18 has factors [2, 3, 6, 9]\n",
      "19 is prime.\n",
      "20 has factors [2, 4, 5, 10]\n"
     ]
    }
   ],
   "source": [
    "for num in range(1, 21):\n",
    "    factors = []\n",
    "    for ii in range(2, num//2+1):\n",
    "        if num % ii == 0:\n",
    "            factors.append(ii)\n",
    "            \n",
    "    if len(factors) == 0:\n",
    "        print(num, 'is prime.')\n",
    "    else:\n",
    "        print(num, 'has factors', factors)"
   ]
  },
  {
   "cell_type": "markdown",
   "metadata": {},
   "source": [
    "Print number that are multiple of 3 but not of 6."
   ]
  },
  {
   "cell_type": "markdown",
   "metadata": {},
   "source": [
    "Print number that are multiple of 2, 4, and 6."
   ]
  }
 ],
 "metadata": {
  "kernelspec": {
   "display_name": "Python 3",
   "language": "python",
   "name": "python3"
  },
  "language_info": {
   "codemirror_mode": {
    "name": "ipython",
    "version": 3
   },
   "file_extension": ".py",
   "mimetype": "text/x-python",
   "name": "python",
   "nbconvert_exporter": "python",
   "pygments_lexer": "ipython3",
   "version": "3.7.4"
  }
 },
 "nbformat": 4,
 "nbformat_minor": 4
}
