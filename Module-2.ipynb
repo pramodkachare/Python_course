{
 "cells": [
  {
   "cell_type": "markdown",
   "metadata": {},
   "source": [
    "## Function"
   ]
  },
  {
   "cell_type": "code",
   "execution_count": 1,
   "metadata": {},
   "outputs": [
    {
     "name": "stdout",
     "output_type": "stream",
     "text": [
      "4 *  1 = 4\n",
      "4 *  2 = 8\n",
      "4 *  3 = 12\n",
      "4 *  4 = 16\n",
      "4 *  5 = 20\n",
      "4 *  6 = 24\n",
      "4 *  7 = 28\n",
      "4 *  8 = 32\n",
      "4 *  9 = 36\n",
      "4 *  10 = 40\n"
     ]
    }
   ],
   "source": [
    "for i in range(1, 11):\n",
    "    print('4 * ', i, '=', 4*i)"
   ]
  },
  {
   "cell_type": "code",
   "execution_count": 5,
   "metadata": {},
   "outputs": [
    {
     "name": "stdout",
     "output_type": "stream",
     "text": [
      "4 * 1 = 4\n",
      "4 * 2 = 8\n",
      "4 * 3 = 12\n",
      "4 * 4 = 16\n",
      "4 * 5 = 20\n",
      "4 * 6 = 24\n",
      "4 * 7 = 28\n",
      "4 * 8 = 32\n",
      "4 * 9 = 36\n",
      "4 * 10 = 40\n",
      "6 * 1 = 6\n",
      "6 * 2 = 12\n",
      "6 * 3 = 18\n",
      "6 * 4 = 24\n",
      "6 * 5 = 30\n",
      "6 * 6 = 36\n",
      "6 * 7 = 42\n",
      "6 * 8 = 48\n",
      "6 * 9 = 54\n",
      "6 * 10 = 60\n"
     ]
    }
   ],
   "source": [
    "num = 4\n",
    "for i in range(1, 11):\n",
    "    print(num, '*', i, '=', num*i)\n",
    "    \n",
    "num = 6\n",
    "for i in range(1, 11):\n",
    "    print(num, '*', i, '=', num*i)"
   ]
  },
  {
   "cell_type": "markdown",
   "metadata": {},
   "source": [
    "SYNTAX:\n",
    "    def function_name(input1, input2, ...):\n",
    "        # code to be executed\n",
    "        return (output1, output2, ...)"
   ]
  },
  {
   "cell_type": "markdown",
   "metadata": {},
   "source": [
    "#### Define a function to print 'Hello world'"
   ]
  },
  {
   "cell_type": "code",
   "execution_count": 6,
   "metadata": {},
   "outputs": [],
   "source": [
    "def print_hello():\n",
    "    print('Hello world')"
   ]
  },
  {
   "cell_type": "code",
   "execution_count": 7,
   "metadata": {},
   "outputs": [
    {
     "name": "stdout",
     "output_type": "stream",
     "text": [
      "Hello world\n"
     ]
    }
   ],
   "source": [
    "print_hello()"
   ]
  },
  {
   "cell_type": "markdown",
   "metadata": {},
   "source": [
    "#### Generate function with input as a name of a person and print greetings -> e.g. Hello Pramod"
   ]
  },
  {
   "cell_type": "code",
   "execution_count": 8,
   "metadata": {},
   "outputs": [
    {
     "ename": "NameError",
     "evalue": "name 'name' is not defined",
     "output_type": "error",
     "traceback": [
      "\u001b[1;31m---------------------------------------------------------------------------\u001b[0m",
      "\u001b[1;31mNameError\u001b[0m                                 Traceback (most recent call last)",
      "\u001b[1;32m<ipython-input-8-c8aaa137273f>\u001b[0m in \u001b[0;36m<module>\u001b[1;34m\u001b[0m\n\u001b[1;32m----> 1\u001b[1;33m \u001b[0mprint\u001b[0m\u001b[1;33m(\u001b[0m\u001b[1;34m'Hello'\u001b[0m\u001b[1;33m,\u001b[0m \u001b[0mname\u001b[0m\u001b[1;33m)\u001b[0m\u001b[1;33m\u001b[0m\u001b[1;33m\u001b[0m\u001b[0m\n\u001b[0m",
      "\u001b[1;31mNameError\u001b[0m: name 'name' is not defined"
     ]
    }
   ],
   "source": [
    "print('Hello', name)"
   ]
  },
  {
   "cell_type": "code",
   "execution_count": 9,
   "metadata": {},
   "outputs": [],
   "source": [
    "def greet(name):\n",
    "    print('Hello', name)"
   ]
  },
  {
   "cell_type": "code",
   "execution_count": 11,
   "metadata": {},
   "outputs": [
    {
     "name": "stdout",
     "output_type": "stream",
     "text": [
      "Hello Pramod\n"
     ]
    }
   ],
   "source": [
    "greet('Pramod')"
   ]
  },
  {
   "cell_type": "code",
   "execution_count": 12,
   "metadata": {},
   "outputs": [
    {
     "ename": "TypeError",
     "evalue": "greet() missing 1 required positional argument: 'name'",
     "output_type": "error",
     "traceback": [
      "\u001b[1;31m---------------------------------------------------------------------------\u001b[0m",
      "\u001b[1;31mTypeError\u001b[0m                                 Traceback (most recent call last)",
      "\u001b[1;32m<ipython-input-12-db845682bfe7>\u001b[0m in \u001b[0;36m<module>\u001b[1;34m\u001b[0m\n\u001b[1;32m----> 1\u001b[1;33m \u001b[0mgreet\u001b[0m\u001b[1;33m(\u001b[0m\u001b[1;33m)\u001b[0m\u001b[1;33m\u001b[0m\u001b[1;33m\u001b[0m\u001b[0m\n\u001b[0m",
      "\u001b[1;31mTypeError\u001b[0m: greet() missing 1 required positional argument: 'name'"
     ]
    }
   ],
   "source": [
    "greet()"
   ]
  },
  {
   "cell_type": "code",
   "execution_count": 14,
   "metadata": {},
   "outputs": [
    {
     "name": "stdout",
     "output_type": "stream",
     "text": [
      "Hello Pramod\n",
      "Hello Ritwik\n",
      "Hello Aadi\n"
     ]
    }
   ],
   "source": [
    "greet('Pramod')\n",
    "greet('Ritwik')\n",
    "greet('Aadi')"
   ]
  },
  {
   "cell_type": "markdown",
   "metadata": {},
   "source": [
    "### Scope of a variable\n",
    "\n",
    "- Global scope\n",
    "    A collectionof all varaibles that are defined outsidea the function\n",
    "- Local scope\n",
    "    A collection of all variables that are defined inside the function.\n",
    "    \n",
    "    \n",
    "-----------------------------------------------------------------------------------------------------------------\n",
    "Program stars here.\n",
    "                    GLOBAL SCOPE (Can use any GLOBAL variable)\n",
    "                    \n",
    "def function1(arg1, .....):\n",
    "                    LOCAL SCOPE  (Can use any LOCAL or GLOBAL variable defined earlier.)\n",
    "                    \n",
    "     return\n",
    "     \n",
    "                    GLOBAL SCOPE\n",
    "\n",
    "\n",
    "\n",
    "Orogram ends here."
   ]
  },
  {
   "cell_type": "code",
   "execution_count": 18,
   "metadata": {},
   "outputs": [
    {
     "name": "stdout",
     "output_type": "stream",
     "text": [
      "5 * 10 = 50\n",
      "a = 5\n",
      "b = 10\n"
     ]
    },
    {
     "ename": "NameError",
     "evalue": "name 'c' is not defined",
     "output_type": "error",
     "traceback": [
      "\u001b[1;31m---------------------------------------------------------------------------\u001b[0m",
      "\u001b[1;31mNameError\u001b[0m                                 Traceback (most recent call last)",
      "\u001b[1;32m<ipython-input-18-7c191fee3b2e>\u001b[0m in \u001b[0;36m<module>\u001b[1;34m\u001b[0m\n\u001b[0;32m      9\u001b[0m \u001b[0mprint\u001b[0m\u001b[1;33m(\u001b[0m\u001b[1;34m'a ='\u001b[0m\u001b[1;33m,\u001b[0m \u001b[0ma\u001b[0m\u001b[1;33m)\u001b[0m\u001b[1;33m\u001b[0m\u001b[1;33m\u001b[0m\u001b[0m\n\u001b[0;32m     10\u001b[0m \u001b[0mprint\u001b[0m\u001b[1;33m(\u001b[0m\u001b[1;34m'b ='\u001b[0m\u001b[1;33m,\u001b[0m \u001b[0mb\u001b[0m\u001b[1;33m)\u001b[0m\u001b[1;33m\u001b[0m\u001b[1;33m\u001b[0m\u001b[0m\n\u001b[1;32m---> 11\u001b[1;33m \u001b[0mprint\u001b[0m\u001b[1;33m(\u001b[0m\u001b[1;34m'c ='\u001b[0m\u001b[1;33m,\u001b[0m \u001b[0mc\u001b[0m\u001b[1;33m)\u001b[0m\u001b[1;33m\u001b[0m\u001b[1;33m\u001b[0m\u001b[0m\n\u001b[0m\u001b[0;32m     12\u001b[0m \u001b[0mprint\u001b[0m\u001b[1;33m(\u001b[0m\u001b[0ma\u001b[0m\u001b[1;33m,\u001b[0m \u001b[1;34m'*'\u001b[0m\u001b[1;33m,\u001b[0m \u001b[0mb\u001b[0m\u001b[1;33m,\u001b[0m \u001b[1;34m'='\u001b[0m\u001b[1;33m,\u001b[0m \u001b[0mc\u001b[0m\u001b[1;33m)\u001b[0m\u001b[1;33m\u001b[0m\u001b[1;33m\u001b[0m\u001b[0m\n",
      "\u001b[1;31mNameError\u001b[0m: name 'c' is not defined"
     ]
    }
   ],
   "source": [
    "a = 5       # <- a is a global variable\n",
    "b = 10      # <- b is a global variable\n",
    "\n",
    "def mul():\n",
    "    c = a * b         # <- c is a local variable\n",
    "    print(a, '*', b, '=', c)\n",
    "    \n",
    "mul()   \n",
    "print('a =', a)\n",
    "print('b =', b)\n",
    "print('c =', c)\n",
    "print(a, '*', b, '=', c)"
   ]
  },
  {
   "cell_type": "code",
   "execution_count": 23,
   "metadata": {},
   "outputs": [
    {
     "name": "stdout",
     "output_type": "stream",
     "text": [
      "Inside: a = -5\n",
      "Inside: b = -10\n",
      "-5 * -10 = 50\n",
      "Outside: a = 5\n",
      "Outside: b = 10\n"
     ]
    }
   ],
   "source": [
    "a = 5       # <- a is a global variable\n",
    "b = 10      # <- b is a global variable\n",
    "\n",
    "def mul():\n",
    "    a = -5\n",
    "    b = -10\n",
    "    \n",
    "    print('Inside: a =', a)\n",
    "    print('Inside: b =', b)\n",
    "    \n",
    "    c = a * b         # <- c is a local variable\n",
    "    print(a, '*', b, '=', c)\n",
    "    \n",
    "mul()\n",
    "print('Outside: a =', a)\n",
    "print('Outside: b =', b)"
   ]
  },
  {
   "cell_type": "code",
   "execution_count": 27,
   "metadata": {},
   "outputs": [
    {
     "name": "stdout",
     "output_type": "stream",
     "text": [
      "Ritwik\n",
      "Hello  Aadi\n",
      "Ritwik\n"
     ]
    }
   ],
   "source": [
    "name = 'Ritwik'       # <- name is a global variable\n",
    "\n",
    "def mul():\n",
    "    name= 'Aadi'\n",
    "    print('Hello ', name) # <- name is a local variable\n",
    "    \n",
    "print(name)    \n",
    "mul()\n",
    "print(name)"
   ]
  },
  {
   "cell_type": "code",
   "execution_count": 32,
   "metadata": {},
   "outputs": [
    {
     "name": "stdout",
     "output_type": "stream",
     "text": [
      "-5\n",
      "15\n"
     ]
    }
   ],
   "source": [
    "a = 5\n",
    "b = 10\n",
    "\n",
    "c = a - b\n",
    "def calc():\n",
    "    c = a + b\n",
    "    print(c)\n",
    "\n",
    "print(c)\n",
    "calc()"
   ]
  },
  {
   "cell_type": "code",
   "execution_count": 33,
   "metadata": {},
   "outputs": [],
   "source": [
    "def print_n_times(n):\n",
    "    for i in range(n):\n",
    "        print('Hello')\n",
    "          "
   ]
  },
  {
   "cell_type": "code",
   "execution_count": 34,
   "metadata": {},
   "outputs": [
    {
     "name": "stdout",
     "output_type": "stream",
     "text": [
      "Hello\n"
     ]
    }
   ],
   "source": [
    "print_n_times(1)"
   ]
  },
  {
   "cell_type": "code",
   "execution_count": 35,
   "metadata": {},
   "outputs": [
    {
     "name": "stdout",
     "output_type": "stream",
     "text": [
      "Hello\n",
      "Hello\n",
      "Hello\n",
      "Hello\n",
      "Hello\n"
     ]
    }
   ],
   "source": [
    "print_n_times(5)"
   ]
  },
  {
   "cell_type": "markdown",
   "metadata": {},
   "source": [
    "### Create function to print numbers between 'start' and 'stop' (included)\n",
    "for example:\n",
    "print_number(4, 10) -> 4, 5, 6, 7, ,8, 9, 10\n"
   ]
  },
  {
   "cell_type": "code",
   "execution_count": 36,
   "metadata": {},
   "outputs": [
    {
     "name": "stdout",
     "output_type": "stream",
     "text": [
      "4\n",
      "5\n",
      "6\n",
      "7\n",
      "8\n",
      "9\n",
      "10\n"
     ]
    }
   ],
   "source": [
    "for i in range(4, 10+1):\n",
    "    print(i)"
   ]
  },
  {
   "cell_type": "code",
   "execution_count": 41,
   "metadata": {},
   "outputs": [],
   "source": [
    "def generate_table(num):\n",
    "    for i in range(1, 11):\n",
    "        print(num, '*', i, '=', num*i)"
   ]
  },
  {
   "cell_type": "code",
   "execution_count": 44,
   "metadata": {},
   "outputs": [
    {
     "name": "stdout",
     "output_type": "stream",
     "text": [
      "6 * 1 = 6\n",
      "6 * 2 = 12\n",
      "6 * 3 = 18\n",
      "6 * 4 = 24\n",
      "6 * 5 = 30\n",
      "6 * 6 = 36\n",
      "6 * 7 = 42\n",
      "6 * 8 = 48\n",
      "6 * 9 = 54\n",
      "6 * 10 = 60\n",
      "2 * 1 = 2\n",
      "2 * 2 = 4\n",
      "2 * 3 = 6\n",
      "2 * 4 = 8\n",
      "2 * 5 = 10\n",
      "2 * 6 = 12\n",
      "2 * 7 = 14\n",
      "2 * 8 = 16\n",
      "2 * 9 = 18\n",
      "2 * 10 = 20\n"
     ]
    }
   ],
   "source": [
    "generate_table(6)\n",
    "generate_table(2)"
   ]
  },
  {
   "cell_type": "code",
   "execution_count": null,
   "metadata": {},
   "outputs": [],
   "source": [
    "### Generate a function to print squares of all even number untill n.\n",
    "function name: even_sq\n",
    "\n",
    "Usage:  even_sq(9) ->  Square of 2 is 4.\n",
    "                       Square of 4 is 16.\n",
    "                       Square of 6 is 36.\n",
    "                       Square of 8 is 64.\n",
    "    "
   ]
  },
  {
   "cell_type": "code",
   "execution_count": 4,
   "metadata": {},
   "outputs": [
    {
     "name": "stdout",
     "output_type": "stream",
     "text": [
      "Square of 0 is 0\n",
      "Square of 2 is 4\n",
      "Square of 4 is 16\n",
      "Square of 6 is 36\n",
      "Square of 8 is 64\n"
     ]
    }
   ],
   "source": [
    "def even_sq(num):\n",
    "    for i in range(num+1):\n",
    "        if i%2 == 0:\n",
    "            print('Square of', i, 'is', i**2)\n",
    "        \n",
    "even_sq(9)"
   ]
  },
  {
   "cell_type": "code",
   "execution_count": 5,
   "metadata": {},
   "outputs": [
    {
     "name": "stdout",
     "output_type": "stream",
     "text": [
      "Square of 1 is 1\n",
      "Square of 3 is 9\n",
      "Square of 5 is 25\n",
      "Square of 7 is 49\n",
      "Square of 9 is 81\n"
     ]
    }
   ],
   "source": [
    "def odd_sq(num):\n",
    "    for i in range(num+1):\n",
    "        if i%2 == 1:\n",
    "            print('Square of', i, 'is', i**2)\n",
    "        \n",
    "odd_sq(9)"
   ]
  },
  {
   "cell_type": "markdown",
   "metadata": {},
   "source": [
    "### Generate a simple calculator function with following options\n",
    "1. Addition\n",
    "2. Subtraction\n",
    "3. Mltiplication\n",
    "4. Division"
   ]
  },
  {
   "cell_type": "code",
   "execution_count": 6,
   "metadata": {},
   "outputs": [],
   "source": [
    "def add(num1, num2):\n",
    "    res = num1 + num2\n",
    "    print('Addition of', num1, '&', num2, 'is', res)"
   ]
  },
  {
   "cell_type": "code",
   "execution_count": 7,
   "metadata": {},
   "outputs": [
    {
     "name": "stdout",
     "output_type": "stream",
     "text": [
      "Addition of 3 & 5 is 8\n"
     ]
    }
   ],
   "source": [
    "add(3, 5)"
   ]
  },
  {
   "cell_type": "code",
   "execution_count": 11,
   "metadata": {},
   "outputs": [],
   "source": [
    "def calc(num1, num2, operation):\n",
    "    print('I am here.')\n",
    "    if operation == 'add':\n",
    "        res = num1 + num2\n",
    "        print('Addition of', num1, '&', num2, 'is', res)"
   ]
  },
  {
   "cell_type": "code",
   "execution_count": 12,
   "metadata": {},
   "outputs": [
    {
     "ename": "TypeError",
     "evalue": "calc() missing 1 required positional argument: 'operation'",
     "output_type": "error",
     "traceback": [
      "\u001b[1;31m---------------------------------------------------------------------------\u001b[0m",
      "\u001b[1;31mTypeError\u001b[0m                                 Traceback (most recent call last)",
      "\u001b[1;32m<ipython-input-12-58ba25896ed6>\u001b[0m in \u001b[0;36m<module>\u001b[1;34m\u001b[0m\n\u001b[1;32m----> 1\u001b[1;33m \u001b[0mcalc\u001b[0m\u001b[1;33m(\u001b[0m\u001b[1;36m3\u001b[0m\u001b[1;33m,\u001b[0m \u001b[1;36m5\u001b[0m\u001b[1;33m)\u001b[0m\u001b[1;33m\u001b[0m\u001b[1;33m\u001b[0m\u001b[0m\n\u001b[0m",
      "\u001b[1;31mTypeError\u001b[0m: calc() missing 1 required positional argument: 'operation'"
     ]
    }
   ],
   "source": [
    "calc(3, 5)"
   ]
  },
  {
   "cell_type": "markdown",
   "metadata": {},
   "source": [
    "#### Compulsory arguments are those which are must while calling a function. If we miss a compulsory argument then it gives error."
   ]
  },
  {
   "cell_type": "code",
   "execution_count": 14,
   "metadata": {},
   "outputs": [
    {
     "ename": "SyntaxError",
     "evalue": "non-default argument follows default argument (<ipython-input-14-7627b9c49680>, line 1)",
     "output_type": "error",
     "traceback": [
      "\u001b[1;36m  File \u001b[1;32m\"<ipython-input-14-7627b9c49680>\"\u001b[1;36m, line \u001b[1;32m1\u001b[0m\n\u001b[1;33m    def calc1(num1, operation='add', num2):\u001b[0m\n\u001b[1;37m             ^\u001b[0m\n\u001b[1;31mSyntaxError\u001b[0m\u001b[1;31m:\u001b[0m non-default argument follows default argument\n"
     ]
    }
   ],
   "source": [
    "def calc1(num1, num2, operation='add'):\n",
    "    if operation == 'add':\n",
    "        res = num1 + num2\n",
    "        print('Addition of', num1, '&', num2, 'is', res)\n",
    "        \n",
    "calc1(3, 5)        "
   ]
  },
  {
   "cell_type": "markdown",
   "metadata": {},
   "source": [
    "#### Optional argument is the onw for which a default value is already defined during function definition.\n",
    "\n",
    "#### Optional arguments can not ocur before any compulsory argument."
   ]
  },
  {
   "cell_type": "code",
   "execution_count": 15,
   "metadata": {},
   "outputs": [
    {
     "ename": "SyntaxError",
     "evalue": "non-default argument follows default argument (<ipython-input-15-7627b9c49680>, line 1)",
     "output_type": "error",
     "traceback": [
      "\u001b[1;36m  File \u001b[1;32m\"<ipython-input-15-7627b9c49680>\"\u001b[1;36m, line \u001b[1;32m1\u001b[0m\n\u001b[1;33m    def calc1(num1, operation='add', num2):\u001b[0m\n\u001b[1;37m             ^\u001b[0m\n\u001b[1;31mSyntaxError\u001b[0m\u001b[1;31m:\u001b[0m non-default argument follows default argument\n"
     ]
    }
   ],
   "source": [
    "def calc1(num1, operation='add', num2):\n",
    "    if operation == 'add':\n",
    "        res = num1 + num2\n",
    "        print('Addition of', num1, '&', num2, 'is', res)\n",
    "        \n",
    "# calc1(3, 5)        "
   ]
  },
  {
   "cell_type": "code",
   "execution_count": 38,
   "metadata": {},
   "outputs": [],
   "source": [
    "def cal(num1, num2=0, operation='add'):\n",
    "    if operation == 'add':\n",
    "        res = num1 + num2\n",
    "    elif operation == 'sub':\n",
    "        res = num1 - num2\n",
    "    elif operation == 'mul':\n",
    "        res = num1 * num2\n",
    "    elif operation == 'div':\n",
    "        res = num1 / num2\n",
    "    else:\n",
    "        res = None        # <- None is a special object in Python which indicate not a value \n",
    "    print(operation, ':', num1, num2, 'result:', res)"
   ]
  },
  {
   "cell_type": "code",
   "execution_count": 39,
   "metadata": {},
   "outputs": [
    {
     "name": "stdout",
     "output_type": "stream",
     "text": [
      "add : 3 0 result: 3\n"
     ]
    }
   ],
   "source": [
    "cal(3)"
   ]
  },
  {
   "cell_type": "code",
   "execution_count": null,
   "metadata": {},
   "outputs": [],
   "source": [
    "### Find prime numbers untill the given number.\n",
    "\n",
    "Usage: find_primes(10) -> 2 is a prime number.\n",
    "                          3 is a prime number.\n",
    "                          5 is a prime number.\n",
    "                          7 is a prime number."
   ]
  },
  {
   "cell_type": "code",
   "execution_count": 28,
   "metadata": {},
   "outputs": [],
   "source": [
    "def find_primes(a):\n",
    "    for num in range(1, a+1):\n",
    "        count = 0\n",
    "        for ii in range(2, num//2+1):\n",
    "            if num % ii == 0:\n",
    "                count += 1\n",
    "        if count == 0:\n",
    "            print(num, 'is prime.')"
   ]
  },
  {
   "cell_type": "code",
   "execution_count": 31,
   "metadata": {},
   "outputs": [
    {
     "name": "stdout",
     "output_type": "stream",
     "text": [
      "1 is prime.\n",
      "2 is prime.\n",
      "3 is prime.\n",
      "5 is prime.\n",
      "7 is prime.\n",
      "11 is prime.\n",
      "13 is prime.\n",
      "17 is prime.\n",
      "19 is prime.\n",
      "23 is prime.\n",
      "29 is prime.\n",
      "31 is prime.\n",
      "37 is prime.\n",
      "41 is prime.\n",
      "43 is prime.\n",
      "47 is prime.\n",
      "53 is prime.\n",
      "59 is prime.\n",
      "61 is prime.\n",
      "67 is prime.\n",
      "71 is prime.\n",
      "73 is prime.\n",
      "79 is prime.\n",
      "83 is prime.\n",
      "89 is prime.\n",
      "97 is prime.\n"
     ]
    }
   ],
   "source": [
    "find_primes(100)"
   ]
  },
  {
   "cell_type": "markdown",
   "metadata": {},
   "source": [
    "#### Find all number that are divisible by 2 but not 4 unitll the user-defined number. If user does not give number then print untill 100.\n",
    "\n",
    "Usage:  find_num(20) -> 2, 6, 10, 14, 18\n",
    "        find_num() -> 2, 6, 10, 14, 18, 22, ....., 98\n"
   ]
  },
  {
   "cell_type": "code",
   "execution_count": 14,
   "metadata": {},
   "outputs": [],
   "source": [
    "def find_num(last=100):    \n",
    "    for num in range(1, last+1):\n",
    "        if num % 2 == 0 and num % 4 > 0:\n",
    "            print(num, 'is divisible by 2 but not 4.')"
   ]
  },
  {
   "cell_type": "code",
   "execution_count": 16,
   "metadata": {},
   "outputs": [
    {
     "name": "stdout",
     "output_type": "stream",
     "text": [
      "2 is divisible by 2 but not 4.\n",
      "6 is divisible by 2 but not 4.\n",
      "10 is divisible by 2 but not 4.\n"
     ]
    }
   ],
   "source": [
    "find_num(10)"
   ]
  },
  {
   "cell_type": "code",
   "execution_count": 17,
   "metadata": {},
   "outputs": [
    {
     "name": "stdout",
     "output_type": "stream",
     "text": [
      "2 is divisible by 2 but not 4.\n",
      "6 is divisible by 2 but not 4.\n",
      "10 is divisible by 2 but not 4.\n",
      "14 is divisible by 2 but not 4.\n",
      "18 is divisible by 2 but not 4.\n",
      "22 is divisible by 2 but not 4.\n",
      "26 is divisible by 2 but not 4.\n",
      "30 is divisible by 2 but not 4.\n",
      "34 is divisible by 2 but not 4.\n",
      "38 is divisible by 2 but not 4.\n",
      "42 is divisible by 2 but not 4.\n",
      "46 is divisible by 2 but not 4.\n",
      "50 is divisible by 2 but not 4.\n",
      "54 is divisible by 2 but not 4.\n",
      "58 is divisible by 2 but not 4.\n",
      "62 is divisible by 2 but not 4.\n",
      "66 is divisible by 2 but not 4.\n",
      "70 is divisible by 2 but not 4.\n",
      "74 is divisible by 2 but not 4.\n",
      "78 is divisible by 2 but not 4.\n",
      "82 is divisible by 2 but not 4.\n",
      "86 is divisible by 2 but not 4.\n",
      "90 is divisible by 2 but not 4.\n",
      "94 is divisible by 2 but not 4.\n",
      "98 is divisible by 2 but not 4.\n"
     ]
    }
   ],
   "source": [
    "find_num()"
   ]
  },
  {
   "cell_type": "markdown",
   "metadata": {},
   "source": [
    "### Recursion"
   ]
  },
  {
   "cell_type": "code",
   "execution_count": null,
   "metadata": {},
   "outputs": [],
   "source": [
    "Factorial of a number\n",
    "\n",
    "0! = 1\n",
    "1! = 1                  = 1 * 0!   =\n",
    "2! = 2 * 1              = 2 * 1!   =\n",
    "3! = 3 * 2 * 1          = 3 * 2!   =\n",
    "4! = 4 * 3 * 2 * 1      = 4 * 3!   =\n",
    "5! = 5 * 4 * 3 * 2 * 1  = 5 * 4!   = 5 * 4 * 3!\n",
    "\n",
    "\n",
    "\n",
    "example:\n",
    "    Fact(5) -> 5 * Fact(4)\n",
    "                   4 * Fact(3)\n",
    "                       3 * Fact(2)\n",
    "                           2 * Fact(1)\n",
    "                               1 * Fact(0)\n",
    "                                   = 1"
   ]
  },
  {
   "cell_type": "code",
   "execution_count": 22,
   "metadata": {},
   "outputs": [],
   "source": [
    "def add(a, b):\n",
    "    c = a + b\n",
    "    print('Addition of', a, 'and', b, 'is', c)"
   ]
  },
  {
   "cell_type": "code",
   "execution_count": 23,
   "metadata": {},
   "outputs": [
    {
     "name": "stdout",
     "output_type": "stream",
     "text": [
      "None\n"
     ]
    }
   ],
   "source": [
    "print(add(3, 4))"
   ]
  },
  {
   "cell_type": "code",
   "execution_count": 24,
   "metadata": {},
   "outputs": [
    {
     "name": "stdout",
     "output_type": "stream",
     "text": [
      "34\n"
     ]
    }
   ],
   "source": [
    "def add(a, b):\n",
    "    c = a + b\n",
    "    return c\n",
    "\n",
    "d = add(30, 4)\n",
    "print(d)"
   ]
  },
  {
   "cell_type": "markdown",
   "metadata": {},
   "source": [
    "### return -> it just return value(s) written in front of it\n",
    "\n",
    "SYNTAX:\n",
    "     def function_name(arg1, arg2, ..):\n",
    "            # code to be executed\n",
    "            \n",
    "            return out1, out2, out3, out4, ...\n",
    "        \n",
    "NOTE: If only one variable is returned then it will have its own datatype. But if more than one varaibles are returned then it will be returned as tuple. This process is called as *packing*.\n",
    "            "
   ]
  },
  {
   "cell_type": "code",
   "execution_count": 30,
   "metadata": {},
   "outputs": [],
   "source": [
    "def cal(num1, num2=0, operation='add'):\n",
    "    if operation == 'add':\n",
    "        print('Before')\n",
    "        return num1 + num2\n",
    "        print('After')\n",
    "    elif operation == 'sub':\n",
    "        return num1 - num2\n",
    "    elif operation == 'mul':\n",
    "        return num1 * num2\n",
    "    elif operation == 'div':\n",
    "        return num1 / num2\n",
    "    else:\n",
    "        return None        # <- None is a special object in Python which indicate not a value "
   ]
  },
  {
   "cell_type": "code",
   "execution_count": 32,
   "metadata": {},
   "outputs": [
    {
     "data": {
      "text/plain": [
       "-1"
      ]
     },
     "execution_count": 32,
     "metadata": {},
     "output_type": "execute_result"
    }
   ],
   "source": [
    "cal(3, 4, 'sub')"
   ]
  },
  {
   "cell_type": "code",
   "execution_count": 41,
   "metadata": {},
   "outputs": [],
   "source": [
    "def check(num):\n",
    "    if num % 2 == 0:\n",
    "        return True, num\n",
    "    else:\n",
    "        return False, num"
   ]
  },
  {
   "cell_type": "code",
   "execution_count": 42,
   "metadata": {},
   "outputs": [
    {
     "name": "stdout",
     "output_type": "stream",
     "text": [
      "(False, 3) <class 'tuple'>\n"
     ]
    }
   ],
   "source": [
    "a = check(3)        #<- packing\n",
    "print(a, type(a))     "
   ]
  },
  {
   "cell_type": "code",
   "execution_count": 44,
   "metadata": {},
   "outputs": [
    {
     "name": "stdout",
     "output_type": "stream",
     "text": [
      "False 3 <class 'bool'> <class 'int'>\n"
     ]
    }
   ],
   "source": [
    "flag, n = check(3)   # <- unpacking\n",
    "print(flag, n, type(flag), type(n))"
   ]
  },
  {
   "cell_type": "code",
   "execution_count": 37,
   "metadata": {},
   "outputs": [],
   "source": [
    "def check(num):\n",
    "    if num % 2 == 0:\n",
    "        return True\n",
    "    else:\n",
    "        return False"
   ]
  },
  {
   "cell_type": "code",
   "execution_count": 39,
   "metadata": {},
   "outputs": [
    {
     "data": {
      "text/plain": [
       "bool"
      ]
     },
     "execution_count": 39,
     "metadata": {},
     "output_type": "execute_result"
    }
   ],
   "source": [
    "type(check(3))"
   ]
  },
  {
   "cell_type": "code",
   "execution_count": 47,
   "metadata": {},
   "outputs": [],
   "source": [
    "def factorial(num):\n",
    "    print('calling factorial of', num)\n",
    "    if num == 0:\n",
    "        return 1\n",
    "    else:\n",
    "        return num * factorial(num-1)"
   ]
  },
  {
   "cell_type": "code",
   "execution_count": 50,
   "metadata": {},
   "outputs": [
    {
     "name": "stdout",
     "output_type": "stream",
     "text": [
      "calling factorial of 5\n",
      "calling factorial of 4\n",
      "calling factorial of 3\n",
      "calling factorial of 2\n",
      "calling factorial of 1\n",
      "calling factorial of 0\n"
     ]
    },
    {
     "data": {
      "text/plain": [
       "120"
      ]
     },
     "execution_count": 50,
     "metadata": {},
     "output_type": "execute_result"
    }
   ],
   "source": [
    "factorial(5)"
   ]
  },
  {
   "cell_type": "markdown",
   "metadata": {},
   "source": [
    "#### write a function to return all numbers that are divisible by 2 but not 4 from 1 to a given number. If nothing is given by user then return all number with same criteria untill 100.\n",
    "\n",
    "Hint: Make list of number with given critera inside the function and return the list.\n",
    "\n",
    "Usage: find_num(10) -> return [2, 6, 10]\n",
    "       find_num()   -> return [2, 6, 10, ..., 98]"
   ]
  }
 ],
 "metadata": {
  "kernelspec": {
   "display_name": "Python 3",
   "language": "python",
   "name": "python3"
  },
  "language_info": {
   "codemirror_mode": {
    "name": "ipython",
    "version": 3
   },
   "file_extension": ".py",
   "mimetype": "text/x-python",
   "name": "python",
   "nbconvert_exporter": "python",
   "pygments_lexer": "ipython3",
   "version": "3.7.4"
  }
 },
 "nbformat": 4,
 "nbformat_minor": 4
}
